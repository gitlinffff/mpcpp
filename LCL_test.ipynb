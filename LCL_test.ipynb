{
 "cells": [
  {
   "cell_type": "markdown",
   "id": "9acf6480-cd82-48d8-9f3b-79c4339497c3",
   "metadata": {},
   "source": [
    "# LCL test"
   ]
  },
  {
   "cell_type": "code",
   "execution_count": 1,
   "id": "8d89fc72-468c-4b3d-b797-a3e21607ebe7",
   "metadata": {},
   "outputs": [],
   "source": [
    "import metpy.calc as calc\n",
    "import metpy._calc_mod as calc_mod\n",
    "from metpy.units import units\n",
    "import numpy as np"
   ]
  },
  {
   "cell_type": "code",
   "execution_count": 2,
   "id": "f9a0c7b6-e747-4acc-94bb-5a48ebf4ee77",
   "metadata": {},
   "outputs": [],
   "source": [
    "shape = (50, 800, 800)\n",
    "\n",
    "# Generate synthetic temperature (in degC) with a realistic gradient\n",
    "T_C = np.random.normal(loc=25.0, scale=10.0, size=shape)  # e.g., mean 25°C, stddev 10\n",
    "\n",
    "# Generate dew point temperatures a few degrees lower than temperature\n",
    "dewT_C = T_C - np.abs(np.random.normal(loc=3.0, scale=2.0, size=shape))  # always <= T_C\n",
    "\n",
    "# Generate pressure values in hPa, decreasing with altitude\n",
    "z = np.linspace(0, 8, shape[0])  # approx. 0 to 12 km altitude\n",
    "P_levels = 1013.25 * np.exp(-z / 7.0)  # simple exponential decay\n",
    "P_hPa = P_levels[:, None, None] * np.ones((1, shape[1], shape[2]))"
   ]
  },
  {
   "cell_type": "code",
   "execution_count": 4,
   "id": "44325131-9393-4925-9eef-c16a00537264",
   "metadata": {},
   "outputs": [],
   "source": [
    "# save the data\n",
    "np.savez('data.npz', T_C=T_C, dewT_C=dewT_C, P_hPa=P_hPa)"
   ]
  },
  {
   "cell_type": "code",
   "execution_count": 2,
   "id": "b37fc706-1e35-4c7b-b297-4b02d8daa34f",
   "metadata": {},
   "outputs": [],
   "source": [
    "# load the data\n",
    "data = np.load('data.npz')\n",
    "\n",
    "T_C = data['T_C']\n",
    "dewT_C = data['dewT_C']\n",
    "P_hPa = data['P_hPa']"
   ]
  },
  {
   "cell_type": "markdown",
   "id": "6fdfd051-f3e1-4cb5-9b2b-292ad438978d",
   "metadata": {},
   "source": [
    "## Original LCL in Python"
   ]
  },
  {
   "cell_type": "code",
   "execution_count": 5,
   "id": "5d6f28a3-32ff-4707-8757-f75870822ef0",
   "metadata": {},
   "outputs": [
    {
     "name": "stderr",
     "output_type": "stream",
     "text": [
      "/var/folders/f3/vr_02qzd5snc7zk0m7cmwmy80000gn/T/ipykernel_8367/139428514.py:2: UserWarning: Saturation mixing ratio is undefined for some requested pressure/temperature combinations. Total pressure must be greater than the water vapor saturation pressure for liquid water to be in equilibrium.\n",
      "  p_lcl, t_lcl = calc.lcl(P_hPa * units.hPa, T_C * units.degC, dewT_C * units.degC)\n"
     ]
    }
   ],
   "source": [
    "p_lcl, t_lcl = calc.lcl(P_hPa * units.hPa, T_C * units.degC, dewT_C * units.degC)"
   ]
  },
  {
   "cell_type": "markdown",
   "id": "bce3acc0-5541-469c-95cc-4d597fefecdc",
   "metadata": {},
   "source": [
    "#### time used: 11 s"
   ]
  },
  {
   "cell_type": "code",
   "execution_count": null,
   "id": "8509f883-d4c5-4614-a04e-3db260a70103",
   "metadata": {},
   "outputs": [],
   "source": []
  },
  {
   "cell_type": "code",
   "execution_count": 7,
   "id": "62131dea-1d3e-45db-b300-6e505c327db0",
   "metadata": {},
   "outputs": [
    {
     "data": {
      "text/plain": [
       "array([[ 40,  32, 504],\n",
       "       [ 44, 731,  33],\n",
       "       [ 46,  28, 374],\n",
       "       [ 49, 754, 546]])"
      ]
     },
     "execution_count": 7,
     "metadata": {},
     "output_type": "execute_result"
    }
   ],
   "source": [
    "idx_nan = np.argwhere(np.isnan(p_lcl))\n",
    "idx_nan"
   ]
  },
  {
   "cell_type": "code",
   "execution_count": 8,
   "id": "6b81827d-bbd1-4b4c-9787-950d59bd2ccc",
   "metadata": {},
   "outputs": [
    {
     "name": "stdout",
     "output_type": "stream",
     "text": [
      "T:  77.64458546365549 degC\n",
      "dewT:  76.46342469872707 degC\n",
      "P:  398.60607922080777 hPa\n"
     ]
    }
   ],
   "source": [
    "print(\"T: \", T_C[40,  32, 504], \"degC\")\n",
    "print(\"dewT: \", dewT_C[40,  32, 504], \"degC\")\n",
    "print(\"P: \", P_hPa[40,  32, 504], \"hPa\")"
   ]
  },
  {
   "cell_type": "markdown",
   "id": "a2ddfbbe-e19d-48a2-b6f3-f10f5ac819a3",
   "metadata": {},
   "source": [
    "## LCL manual vectorization in Python"
   ]
  },
  {
   "cell_type": "code",
   "execution_count": 11,
   "id": "bf37e856-145d-4f51-98ee-3eea4e5d84ce",
   "metadata": {
    "scrolled": true
   },
   "outputs": [
    {
     "name": "stderr",
     "output_type": "stream",
     "text": [
      "Warning in function 'SaturationMixingRatio': Total pressure must be greater than the saturation vapor pressure for liquid water to be in equilibrium.\n",
      "Warning in function 'lambert_wm1': lambert_wm1 did not converge.\n",
      "Warning in function 'SaturationMixingRatio': Total pressure must be greater than the saturation vapor pressure for liquid water to be in equilibrium.\n",
      "Warning in function 'lambert_wm1': lambert_wm1 did not converge.\n",
      "Warning in function 'SaturationMixingRatio': Total pressure must be greater than the saturation vapor pressure for liquid water to be in equilibrium.\n",
      "Warning in function 'lambert_wm1': lambert_wm1 did not converge.\n",
      "Warning in function 'SaturationMixingRatio': Total pressure must be greater than the saturation vapor pressure for liquid water to be in equilibrium.\n",
      "Warning in function 'lambert_wm1': lambert_wm1 did not converge.\n"
     ]
    },
    {
     "data": {
      "text/plain": [
       "(<Quantity([[[ 922.88373239  987.72926347  971.76229072 ...  940.60128723\n",
       "     976.40022727  949.43666988]\n",
       "   [ 972.65574864  930.91846973  928.66070841 ...  944.13425675\n",
       "     957.73973679  976.67920928]\n",
       "   [ 997.69787307  985.22053275  922.64071162 ... 1001.27328924\n",
       "     982.21872811  967.27923298]\n",
       "   ...\n",
       "   [1007.41406607  972.08610407  989.60009558 ...  987.68912927\n",
       "     984.91978178  982.60990512]\n",
       "   [ 960.4361106   956.76029394  988.40542749 ...  993.78392528\n",
       "     989.26573622  933.85869847]\n",
       "   [ 956.79452247  930.56431947 1005.60998252 ...  952.27959916\n",
       "     970.06683537  961.5559487 ]]\n",
       " \n",
       "  [[ 936.04857022  948.1215181   966.83395754 ...  951.78283821\n",
       "     986.70250655  982.83830772]\n",
       "   [ 914.22785428  976.96552053  940.70686194 ...  960.34508049\n",
       "     936.0339513   950.29648823]\n",
       "   [ 937.70162913  979.53209128  948.40589656 ...  953.68753113\n",
       "     956.95848757  986.61561128]\n",
       "   ...\n",
       "   [ 964.91682235  964.44544765  928.0152724  ...  981.37518239\n",
       "     955.2062229   939.69126183]\n",
       "   [ 926.97645939  982.15018337  955.46717291 ...  961.82328346\n",
       "     927.50090638  956.01029556]\n",
       "   [ 934.73849758  962.32830394  940.91650316 ...  921.1268185\n",
       "     964.35786796  934.14991545]]\n",
       " \n",
       "  [[ 885.08967161  949.5246328   914.7878276  ...  898.82623865\n",
       "     904.02556313  893.21944889]\n",
       "   [ 882.81438678  897.84794766  939.06260021 ...  904.36809384\n",
       "     901.74919603  940.44700693]\n",
       "   [ 951.34723039  914.9796496   958.11067742 ...  912.4573939\n",
       "     967.02093158  908.17042412]\n",
       "   ...\n",
       "   [ 953.52350714  911.87854638  912.94221592 ...  939.41830897\n",
       "     924.2896925   950.31527004]\n",
       "   [ 947.48342312  941.13350814  937.52834589 ...  953.27829964\n",
       "     871.41384043  901.12673634]\n",
       "   [ 927.02605841  932.41076805  927.32691248 ...  932.90976604\n",
       "     926.71285708  891.78035182]]\n",
       " \n",
       "  ...\n",
       " \n",
       "  [[ 321.18375939  321.38445346  331.32415394 ...  317.92549121\n",
       "     315.13618264  317.70772669]\n",
       "   [ 323.2476779   315.2132219   326.30590715 ...  331.35947463\n",
       "     332.84060079  322.35997653]\n",
       "   [ 330.1504997   337.59610432  335.81200479 ...  337.4062761\n",
       "     326.66607771  338.00547512]\n",
       "   ...\n",
       "   [ 312.13992631  323.44290297  334.83124917 ...  337.83067194\n",
       "     326.77284575  330.46038239]\n",
       "   [ 334.42120252  318.30873444  314.220767   ...  323.06672658\n",
       "     331.80850777  320.00097668]\n",
       "   [ 329.81220434  328.26239899  333.26497242 ...  329.16437524\n",
       "     324.54666086  322.40935889]]\n",
       " \n",
       "  [[ 318.73350417  315.40342501  305.26692685 ...  315.88180589\n",
       "     281.7275268   318.16280341]\n",
       "   [ 312.30545455  307.13819262  310.26439065 ...  307.85228125\n",
       "     318.93678185  324.96856601]\n",
       "   [ 303.42341525  312.8921713   314.34370149 ...  320.64433288\n",
       "     329.89970447  323.94687951]\n",
       "   ...\n",
       "   [ 326.48156731  303.94496817  297.49450974 ...  325.1169239\n",
       "     320.12450485  309.49874895]\n",
       "   [ 313.9767324   323.03132538  314.87550319 ...  311.93947916\n",
       "     300.7910741   296.10653443]\n",
       "   [ 315.2118091   326.99686697  315.41583628 ...  320.74935381\n",
       "     323.14733423  322.190246  ]]\n",
       " \n",
       "  [[ 319.2710932   303.18225133  308.10098205 ...  315.5991453\n",
       "     315.8115831   302.90974193]\n",
       "   [ 300.89550533  314.15292697  316.68032365 ...  312.77827016\n",
       "     310.9389644   314.32308751]\n",
       "   [ 313.81979678  303.14210201  313.86544431 ...  311.12319013\n",
       "     309.09838683  310.9256919 ]\n",
       "   ...\n",
       "   [ 297.80259837  287.90691352  306.30043116 ...  317.31782775\n",
       "     310.02151643  292.11194528]\n",
       "   [ 299.87520572  304.48712418  312.73454013 ...  290.77164666\n",
       "     308.13037681  312.99901908]\n",
       "   [ 311.0448976   321.89487742  301.04536834 ...  308.5515879\n",
       "     321.58900258  303.04346459]]], 'hectopascal')>,\n",
       " <Quantity([[[23.36438595 21.17695986  4.56737732 ...  8.20845077 28.46721071\n",
       "    16.93377458]\n",
       "   [22.93277554 18.03176177 12.00688996 ... 25.73334105 15.72030699\n",
       "    22.47005061]\n",
       "   [15.94694538 20.19297765 12.85983918 ...  7.0316453  13.04780832\n",
       "    20.65518714]\n",
       "   ...\n",
       "   [19.30425642  7.37661663 26.76097455 ... 12.77172229 17.64079141\n",
       "    28.25645773]\n",
       "   [16.07102062 31.04490135 23.37948013 ... 25.59418284 30.16785963\n",
       "    27.98332776]\n",
       "   [16.27695416 25.62975742 10.31500484 ... 24.31597532 18.23463584\n",
       "    21.84571603]]\n",
       " \n",
       "  [[18.1757616  22.71222752 13.725249   ... 35.36974617 29.53711423\n",
       "    26.44759302]\n",
       "   [18.7073605  24.3901529  30.64065063 ... 28.78869967 30.72321949\n",
       "    -0.24718489]\n",
       "   [14.73305752 23.16459382 22.65481254 ... 32.55174923 15.54793124\n",
       "    39.48998337]\n",
       "   ...\n",
       "   [15.91601975 37.99695507 22.00365141 ... 23.38353313 22.96417801\n",
       "    31.46277903]\n",
       "   [ 5.56090902 20.45871209 15.17538417 ... 22.60911355 20.59507559\n",
       "    23.7007609 ]\n",
       "   [16.17081429 30.18724727 18.05818606 ... 23.72722796 20.02318279\n",
       "    19.14705094]]\n",
       " \n",
       "  [[13.15943704 29.77649171 25.57535697 ... 11.188963   31.43377823\n",
       "    19.62575378]\n",
       "   [ 2.77298241 15.35097851 24.83428402 ... 33.89688211 30.15610337\n",
       "    15.53947708]\n",
       "   [38.00911334 22.81765851 15.18891667 ...  8.18508893 22.28906815\n",
       "    40.26402209]\n",
       "   ...\n",
       "   [15.18552329  1.71940802  5.26226698 ... 17.65128734 26.26740319\n",
       "    19.97984983]\n",
       "   [ 7.62235906 15.58147162 11.13992441 ... 14.90227072 27.38308682\n",
       "    26.96521997]\n",
       "   [10.33047454 21.79853828  7.10117925 ... 25.39558344  3.89423774\n",
       "    27.38798426]]\n",
       " \n",
       "  ...\n",
       " \n",
       "  [[21.64120477 17.27509558 22.84768623 ... 28.0620667  14.68962445\n",
       "    20.49217196]\n",
       "   [20.03097533 18.758609   20.56838102 ... 10.45482243  7.84747457\n",
       "    18.82541296]\n",
       "   [17.2283392  26.04105488 40.49571958 ...  7.55673193 11.77854508\n",
       "    16.81332141]\n",
       "   ...\n",
       "   [13.82025293 23.50310191 44.60909438 ... 31.44460292 28.19316866\n",
       "    28.09769431]\n",
       "   [12.84467717  6.8910586  11.89073768 ... 22.57697077  9.22861266\n",
       "     8.37642576]\n",
       "   [16.33363194 35.4763357   5.29011047 ... 30.19527779 15.17803895\n",
       "    34.18657214]]\n",
       " \n",
       "  [[16.33996254 22.41952415  3.19660583 ... 16.22291219 16.01081856\n",
       "    23.63487834]\n",
       "   [15.75377133 17.4809878   8.96848073 ... 34.7910984  20.54557253\n",
       "     1.25303981]\n",
       "   [17.05137392 20.73965796 10.81553941 ... 20.87175409 35.88038173\n",
       "    15.87740382]\n",
       "   ...\n",
       "   [44.29175666  7.39268429 19.28815185 ... 19.51537763 23.4626212\n",
       "    31.87854461]\n",
       "   [30.3661011  14.10125997 17.65764051 ...  5.26711532 24.72760034\n",
       "    19.38516391]\n",
       "   [12.97776605 11.70939045 23.16089578 ... 28.97018959 27.5096588\n",
       "    35.00347308]]\n",
       " \n",
       "  [[23.84033316  8.36150422 18.66799687 ... 35.58511791 32.50252721\n",
       "    32.67626744]\n",
       "   [19.04529287 16.1326145  18.48630944 ... 37.59485574 23.04799\n",
       "    20.41597587]\n",
       "   [18.09762547 14.89892699 35.73005268 ... 16.33349236 22.45005364\n",
       "    28.63496005]\n",
       "   ...\n",
       "   [ 4.61066741 14.64941888 31.6737101  ... 36.1133456  14.33944619\n",
       "     9.41566325]\n",
       "   [17.73219757 21.54999658 31.55045273 ... 19.89903722 30.67959857\n",
       "    -0.40297101]\n",
       "   [14.88369722 24.86797831 -1.53233829 ... 25.26474901 13.33095518\n",
       "    18.68067694]]], 'degree_Celsius')>)"
      ]
     },
     "execution_count": 11,
     "metadata": {},
     "output_type": "execute_result"
    }
   ],
   "source": [
    "calc.lcl_manual(P_hPa * units.hPa, T_C * units.degC, dewT_C * units.degC)"
   ]
  },
  {
   "cell_type": "markdown",
   "id": "caec8ea2-4676-452d-83b7-4525f239e1cf",
   "metadata": {},
   "source": [
    "#### time used: 21 s"
   ]
  },
  {
   "cell_type": "markdown",
   "id": "9a99545d-ab2c-4057-8e23-b77ac7c38520",
   "metadata": {},
   "source": [
    "## LCL manual vectorization in c++ pybind11"
   ]
  },
  {
   "cell_type": "code",
   "execution_count": 3,
   "id": "85fa43b8-384c-4294-ac24-54b3363c4e84",
   "metadata": {},
   "outputs": [
    {
     "name": "stderr",
     "output_type": "stream",
     "text": [
      "Warning in function 'SaturationMixingRatio': Total pressure must be greater than the saturation vapor pressure for liquid water to be in equilibrium.\n",
      "Warning in function 'lambert_wm1': lambert_wm1 did not converge.\n",
      "Warning in function 'SaturationMixingRatio': Total pressure must be greater than the saturation vapor pressure for liquid water to be in equilibrium.\n",
      "Warning in function 'lambert_wm1': lambert_wm1 did not converge.\n",
      "Warning in function 'SaturationMixingRatio': Total pressure must be greater than the saturation vapor pressure for liquid water to be in equilibrium.\n",
      "Warning in function 'lambert_wm1': lambert_wm1 did not converge.\n",
      "Warning in function 'SaturationMixingRatio': Total pressure must be greater than the saturation vapor pressure for liquid water to be in equilibrium.\n",
      "Warning in function 'lambert_wm1': lambert_wm1 did not converge.\n"
     ]
    }
   ],
   "source": [
    "p_lcl, t_lcl = calc_mod.lcl(P_hPa * 100, T_C+273.15, dewT_C+273.15)"
   ]
  },
  {
   "cell_type": "markdown",
   "id": "2226b890-4a75-420b-9327-ffe88df0dfb0",
   "metadata": {},
   "source": [
    "#### time used: 6 s"
   ]
  },
  {
   "cell_type": "code",
   "execution_count": null,
   "id": "f6a7e174-3eb0-400d-aa25-de103f951f79",
   "metadata": {},
   "outputs": [],
   "source": []
  }
 ],
 "metadata": {
  "kernelspec": {
   "display_name": "Python (metpy_dev)",
   "language": "python",
   "name": "metpy_dev"
  },
  "language_info": {
   "codemirror_mode": {
    "name": "ipython",
    "version": 3
   },
   "file_extension": ".py",
   "mimetype": "text/x-python",
   "name": "python",
   "nbconvert_exporter": "python",
   "pygments_lexer": "ipython3",
   "version": "3.13.3"
  }
 },
 "nbformat": 4,
 "nbformat_minor": 5
}
