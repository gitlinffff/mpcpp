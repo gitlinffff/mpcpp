{
 "cells": [
  {
   "cell_type": "code",
   "execution_count": 3,
   "id": "2781d277-7c99-4252-99d6-ff076bbd5741",
   "metadata": {},
   "outputs": [],
   "source": [
    "from metpy.calc import virtual_temperature\n",
    "from metpy.units import units"
   ]
  },
  {
   "cell_type": "code",
   "execution_count": 5,
   "id": "3220aad6-b430-460b-bda8-6b652aa900bd",
   "metadata": {},
   "outputs": [
    {
     "data": {
      "text/html": [
       "<table><tbody><tr><th>Magnitude</th><td style='text-align:left;'><pre>[285.0397088301652 295.11178334713213]</pre></td></tr><tr><th>Units</th><td style='text-align:left;'>kelvin</td></tr></tbody></table>"
      ],
      "text/latex": [
       "$\\begin{pmatrix} & \\end{pmatrix}\\ \\mathrm{kelvin}$"
      ],
      "text/plain": [
       "<Quantity([285.03970883 295.11178335], 'kelvin')>"
      ]
     },
     "execution_count": 5,
     "metadata": {},
     "output_type": "execute_result"
    }
   ],
   "source": [
    "virtual_temperature([283, 293] * units.K, 12 * units('g/kg'))"
   ]
  },
  {
   "cell_type": "code",
   "execution_count": 1,
   "id": "5ba95494-5c73-4263-a501-1e929c0067cc",
   "metadata": {},
   "outputs": [],
   "source": [
    "from metpy.calc import cape_cin, dewpoint_from_relative_humidity, parcel_profile\n",
    "from metpy.units import units\n",
    "\n",
    "# pressure\n",
    "p = [1008., 1000., 950., 900., 850., 800., 750., 700., 650., 600.,\n",
    "     550., 500., 450., 400., 350., 300., 250., 200.,\n",
    "     175., 150., 125., 100., 80., 70., 60., 50.,\n",
    "     40., 30., 25., 20.] * units.hPa\n",
    "# temperature\n",
    "T = [29.3, 28.1, 23.5, 20.9, 18.4, 15.9, 13.1, 10.1, 6.7, 3.1,\n",
    "     -0.5, -4.5, -9.0, -14.8, -21.5, -29.7, -40.0, -52.4,\n",
    "     -59.2, -66.5, -74.1, -78.5, -76.0, -71.6, -66.7, -61.3,\n",
    "     -56.3, -51.7, -50.7, -47.5] * units.degC\n",
    "# relative humidity\n",
    "rh = [.85, .65, .36, .39, .82, .72, .75, .86, .65, .22, .52,\n",
    "      .66, .64, .20, .05, .75, .76, .45, .25, .48, .76, .88,\n",
    "      .56, .88, .39, .67, .15, .04, .94, .35] * units.dimensionless\n",
    "# calculate dewpoint\n",
    "Td = dewpoint_from_relative_humidity(T, rh)"
   ]
  },
  {
   "cell_type": "code",
   "execution_count": 3,
   "id": "826ef7c1-376b-44c6-8441-5f7681c8e2c6",
   "metadata": {},
   "outputs": [],
   "source": [
    "# compture parcel temperature\n",
    "prof = parcel_profile(p, T[0], Td[0]).to('degC')"
   ]
  },
  {
   "cell_type": "code",
   "execution_count": 2,
   "id": "7fcf842e-e30d-469d-a13f-99d1292e45e6",
   "metadata": {},
   "outputs": [],
   "source": [
    "import metpy._calc_mod as calc"
   ]
  },
  {
   "cell_type": "code",
   "execution_count": 2,
   "id": "a7372925-5562-48d1-aa5e-fb3ce4409fd7",
   "metadata": {},
   "outputs": [
    {
     "data": {
      "text/html": [
       "<table><tbody><tr><th>Magnitude</th><td style='text-align:left;'><pre>[26.476673828862374 20.874713737310458 7.561652743204263 6.42289824961432 15.261828264118833 10.853235592857345 8.764796187745276 7.859308249214848 0.579444992840422 -16.59792049697421 -9.164431069182854 -9.904905123856452 -14.58503488715553 -32.840995196459374 -51.2372902444485 -32.72822080732274 -42.594101315904766 -58.85968701789008 -69.38776999934828 -71.44480444589652 -75.52927546435103 -78.82758930328518 -79.28793823750121 -72.13425645023514 -73.04415020609969 -64.1589989051991 -70.46374966559097 -75.70199743930277 -51.1557396953242 -56.39592477876104]</pre></td></tr><tr><th>Units</th><td style='text-align:left;'>degree_Celsius</td></tr></tbody></table>"
      ],
      "text/latex": [
       "$\\begin{pmatrix} &  &  &  &  &  &  &  &  &  &  &  &  &  &  &  &  &  &  &  &  &  &  &  &  &  &  &  &  & \\end{pmatrix}\\ \\mathrm{degree\\_Celsius}$"
      ],
      "text/plain": [
       "<Quantity([ 26.47667383  20.87471374   7.56165274   6.42289825  15.26182826\n",
       "  10.85323559   8.76479619   7.85930825   0.57944499 -16.5979205\n",
       "  -9.16443107  -9.90490512 -14.58503489 -32.8409952  -51.23729024\n",
       " -32.72822081 -42.59410132 -58.85968702 -69.38777    -71.44480445\n",
       " -75.52927546 -78.8275893  -79.28793824 -72.13425645 -73.04415021\n",
       " -64.15899891 -70.46374967 -75.70199744 -51.1557397  -56.39592478], 'degree_Celsius')>"
      ]
     },
     "execution_count": 2,
     "metadata": {},
     "output_type": "execute_result"
    }
   ],
   "source": [
    "# calculate surface based CAPE/CIN\n",
    "cape_cin(p, T, Td, prof)"
   ]
  },
  {
   "cell_type": "code",
   "execution_count": null,
   "id": "2a092287-e584-45f5-a05c-8f2929a723c2",
   "metadata": {},
   "outputs": [],
   "source": []
  },
  {
   "cell_type": "code",
   "execution_count": null,
   "id": "83dcc59a-73e1-413a-b612-a48c9f1d9538",
   "metadata": {},
   "outputs": [],
   "source": []
  },
  {
   "cell_type": "code",
   "execution_count": null,
   "id": "58f2b935-c5fb-4cc9-9041-6d14612d3ab3",
   "metadata": {},
   "outputs": [],
   "source": []
  },
  {
   "cell_type": "code",
   "execution_count": 1,
   "id": "6edb9369-8c16-480d-bf89-b0d2b9cdbfbd",
   "metadata": {},
   "outputs": [],
   "source": [
    "import metpy._calc_mod as calc_mod\n",
    "import numpy as np"
   ]
  },
  {
   "cell_type": "code",
   "execution_count": 2,
   "id": "b46fafcc-c26f-477b-878b-46e84b8fd7f2",
   "metadata": {},
   "outputs": [],
   "source": [
    "T = np.array([283, 293, 303])"
   ]
  },
  {
   "cell_type": "code",
   "execution_count": 3,
   "id": "17d590fe-8077-44b3-a236-4edf04b9d92e",
   "metadata": {},
   "outputs": [
    {
     "ename": "TypeError",
     "evalue": "virtual_temperature(): incompatible function arguments. The following argument types are supported:\n    1. (temperature: numpy.ndarray[numpy.float64], mixing_ratio: numpy.ndarray[numpy.float64], epsilon: numpy.ndarray[numpy.float64]) -> object\n\nInvoked with: array([283, 293, 303]), 0.012",
     "output_type": "error",
     "traceback": [
      "\u001b[31m---------------------------------------------------------------------------\u001b[39m",
      "\u001b[31mTypeError\u001b[39m                                 Traceback (most recent call last)",
      "\u001b[36mCell\u001b[39m\u001b[36m \u001b[39m\u001b[32mIn[3]\u001b[39m\u001b[32m, line 1\u001b[39m\n\u001b[32m----> \u001b[39m\u001b[32m1\u001b[39m \u001b[43mcalc_mod\u001b[49m\u001b[43m.\u001b[49m\u001b[43mvirtual_temperature\u001b[49m\u001b[43m(\u001b[49m\u001b[43mT\u001b[49m\u001b[43m,\u001b[49m\u001b[43m \u001b[49m\u001b[32;43m0.012\u001b[39;49m\u001b[43m)\u001b[49m\n",
      "\u001b[31mTypeError\u001b[39m: virtual_temperature(): incompatible function arguments. The following argument types are supported:\n    1. (temperature: numpy.ndarray[numpy.float64], mixing_ratio: numpy.ndarray[numpy.float64], epsilon: numpy.ndarray[numpy.float64]) -> object\n\nInvoked with: array([283, 293, 303]), 0.012"
     ]
    }
   ],
   "source": [
    "calc_mod.virtual_temperature(T, 0.012)"
   ]
  },
  {
   "cell_type": "code",
   "execution_count": 8,
   "id": "047503fd-4339-43a3-a05d-dc7d80b0d707",
   "metadata": {},
   "outputs": [
    {
     "ename": "RuntimeError",
     "evalue": "pybind11::vectorize: incompatible size/dimension of inputs!",
     "output_type": "error",
     "traceback": [
      "\u001b[31m---------------------------------------------------------------------------\u001b[39m",
      "\u001b[31mRuntimeError\u001b[39m                              Traceback (most recent call last)",
      "\u001b[36mCell\u001b[39m\u001b[36m \u001b[39m\u001b[32mIn[8]\u001b[39m\u001b[32m, line 3\u001b[39m\n\u001b[32m      1\u001b[39m T = np.array([\u001b[32m283\u001b[39m, \u001b[32m293\u001b[39m, \u001b[32m303\u001b[39m])\n\u001b[32m      2\u001b[39m w = np.array([\u001b[32m0.012\u001b[39m, \u001b[32m0.012\u001b[39m])\n\u001b[32m----> \u001b[39m\u001b[32m3\u001b[39m \u001b[43mcalc\u001b[49m\u001b[43m.\u001b[49m\u001b[43mvirtual_temperature\u001b[49m\u001b[43m(\u001b[49m\u001b[43mT\u001b[49m\u001b[43m,\u001b[49m\u001b[43m \u001b[49m\u001b[43mw\u001b[49m\u001b[43m)\u001b[49m\n",
      "\u001b[31mRuntimeError\u001b[39m: pybind11::vectorize: incompatible size/dimension of inputs!"
     ]
    }
   ],
   "source": [
    "T = np.array([283, 293, 303])\n",
    "w = np.array([0.012, 0.012])\n",
    "calc.virtual_temperature(T, w)"
   ]
  },
  {
   "cell_type": "code",
   "execution_count": 7,
   "id": "0a46fe32-e9f7-4984-9ef1-b2333a30480f",
   "metadata": {},
   "outputs": [
    {
     "data": {
      "text/plain": [
       "array([285.03933505, 295.11139636, 305.18345767])"
      ]
     },
     "execution_count": 7,
     "metadata": {},
     "output_type": "execute_result"
    }
   ],
   "source": [
    "T = np.array([283, 293, 303])\n",
    "w = 0.012\n",
    "calc.virtual_temperature(T, w)"
   ]
  },
  {
   "cell_type": "code",
   "execution_count": 5,
   "id": "2cca685b-fa94-4dea-b3d3-5af7dbeb7d1b",
   "metadata": {},
   "outputs": [
    {
     "data": {
      "text/plain": [
       "270.1363636363636"
      ]
     },
     "execution_count": 5,
     "metadata": {},
     "output_type": "execute_result"
    }
   ],
   "source": [
    "T = 283\n",
    "w = 1\n",
    "e = 1.1\n",
    "calc.virtual_temperature(T, w, e)"
   ]
  },
  {
   "cell_type": "code",
   "execution_count": 7,
   "id": "d091cb84-599e-4bfe-b91f-1956c7a927f6",
   "metadata": {},
   "outputs": [
    {
     "data": {
      "text/plain": [
       "array([286.35573123, 285.03933505, 313.20158103])"
      ]
     },
     "execution_count": 7,
     "metadata": {},
     "output_type": "execute_result"
    }
   ],
   "source": [
    "T = 283\n",
    "w = 0.012\n",
    "e = np.array([0.5, 0.622, 0.1])\n",
    "calc.virtual_temperature(T, w, e)"
   ]
  },
  {
   "cell_type": "code",
   "execution_count": 13,
   "id": "ae6f161b-35da-4c40-a57b-f8d4196a7ce9",
   "metadata": {},
   "outputs": [
    {
     "name": "stderr",
     "output_type": "stream",
     "text": [
      "Total pressure must be greater than the saturation vapor pressure for liquid water to be in equilibrium.\n"
     ]
    },
    {
     "data": {
      "text/plain": [
       "nan"
      ]
     },
     "execution_count": 13,
     "metadata": {},
     "output_type": "execute_result"
    }
   ],
   "source": [
    "P = 1000\n",
    "T = 25+273.15\n",
    "calc_mod.saturation_mixing_ratio(P, T, phase='auto')"
   ]
  },
  {
   "cell_type": "code",
   "execution_count": 15,
   "id": "761a1926-df47-41b2-9868-9b976ca6d9f6",
   "metadata": {},
   "outputs": [
    {
     "data": {
      "text/plain": [
       "3162.345599110219"
      ]
     },
     "execution_count": 15,
     "metadata": {},
     "output_type": "execute_result"
    }
   ],
   "source": [
    "calc_mod.saturation_vapor_pressure(25+273.15, phase='liquid')"
   ]
  },
  {
   "cell_type": "code",
   "execution_count": 7,
   "id": "96a3be12-a78c-42e8-a377-f8e2742bc0a4",
   "metadata": {},
   "outputs": [
    {
     "name": "stdout",
     "output_type": "stream",
     "text": [
      "epsilon:0.621957\n"
     ]
    },
    {
     "data": {
      "text/plain": [
       "0.020673654339825723"
      ]
     },
     "execution_count": 7,
     "metadata": {},
     "output_type": "execute_result"
    }
   ],
   "source": [
    "calc_mod.mixing_ratio(3162.345599110219, 98300, 0.621957)"
   ]
  },
  {
   "cell_type": "code",
   "execution_count": null,
   "id": "96948123-8300-4cce-8a5c-73cb85f03b85",
   "metadata": {},
   "outputs": [],
   "source": []
  },
  {
   "cell_type": "code",
   "execution_count": 1,
   "id": "1da89d20-7851-4771-96ee-395395fadef2",
   "metadata": {},
   "outputs": [],
   "source": [
    "import metpy.calc as calc\n",
    "import metpy._calc_mod as calc_mod\n",
    "from metpy.units import units\n",
    "import numpy as np"
   ]
  },
  {
   "cell_type": "code",
   "execution_count": 6,
   "id": "1aa671e6-e615-4bad-9381-5b56ad0fd2af",
   "metadata": {},
   "outputs": [
    {
     "data": {
      "text/html": [
       "<table><tbody><tr><th>Magnitude</th><td style='text-align:left;'><pre>[[[292.090160992042 293.60097216958707 291.08295354034533]  [294.1045758954354 292.59376471789034 290.579349814497]  [293.09736844373873 291.58655726619367 292.090160992042]] [[271.9460119581081 272.9532194098048 271.44240823225977]  [275.1287875054697 272.44961568395644 269.9315970547147]  [273.45682313565317 270.93880450641143 271.9460119581081]] [[231.65771389024022 232.66492134193692 231.15411016439188]  [233.67212879363362 232.16131761608858 229.64329898684684]  [233.16852506778525 230.65050643854352 231.65771389024022]]]</pre></td></tr><tr><th>Units</th><td style='text-align:left;'>kelvin</td></tr></tbody></table>"
      ],
      "text/latex": [
       "$arr[,0,:,:] = \\begin{pmatrix} &  & \\\\ \n",
       " &  & \\\\ \n",
       " &  & \\end{pmatrix}\n",
       "arr[,1,:,:] = \\begin{pmatrix} &  & \\\\ \n",
       " &  & \\\\ \n",
       " &  & \\end{pmatrix}\n",
       "arr[,2,:,:] = \\begin{pmatrix} &  & \\\\ \n",
       " &  & \\\\ \n",
       " &  & \\end{pmatrix}\\ \\mathrm{kelvin}$"
      ],
      "text/plain": [
       "<Quantity([[[292.09016099 293.60097217 291.08295354]\n",
       "  [294.1045759  292.59376472 290.57934981]\n",
       "  [293.09736844 291.58655727 292.09016099]]\n",
       "\n",
       " [[271.94601196 272.95321941 271.44240823]\n",
       "  [275.12878751 272.44961568 269.93159705]\n",
       "  [273.45682314 270.93880451 271.94601196]]\n",
       "\n",
       " [[231.65771389 232.66492134 231.15411016]\n",
       "  [233.67212879 232.16131762 229.64329899]\n",
       "  [233.16852507 230.65050644 231.65771389]]], 'kelvin')>"
      ]
     },
     "execution_count": 6,
     "metadata": {},
     "output_type": "execute_result"
    }
   ],
   "source": [
    "\"\"\"  Virtual temperature  \"\"\"\n",
    "T = np.array([\n",
    "    [[290.0, 291.5, 289.0],\n",
    "     [292.0, 290.5, 288.5],\n",
    "     [291.0, 289.5, 290.0]],\n",
    "\n",
    "    [[270.0, 271.0, 269.5],\n",
    "     [273.16, 270.5, 268.0],\n",
    "     [271.5, 269.0, 270.0]],\n",
    "\n",
    "    [[230.0, 231.0, 229.5],\n",
    "     [232.0, 230.5, 228.0],\n",
    "     [231.5, 229.0, 230.0]]\n",
    "]) * units.K\n",
    "w = 12 * units('g/kg')\n",
    "calc.virtual_temperature(T, w)"
   ]
  },
  {
   "cell_type": "code",
   "execution_count": 7,
   "id": "120b53bb-4f80-4544-b99f-71f28bf5c014",
   "metadata": {},
   "outputs": [
    {
     "data": {
      "text/html": [
       "<table><tbody><tr><th>Magnitude</th><td style='text-align:left;'><pre>[[[1916.7163842047705 2106.79447244294 1798.5053465502558]  [2173.719316310318 1978.334171493004 1741.8342351486833]  [2041.6799390475408 1856.7865411821044 1916.7163842047705]] [[484.3999009603022 521.7312171304515 466.6394945831528]  [611.2 502.7580421252705 416.7777046297215]  [541.337135803393 449.4599275188782 484.3999009603022]] [[13.637846040216994 15.164274013410962 12.9283031640586]  [16.84452742513567 14.382649615387503 10.9964976607614]  [15.984339304434725 12.252518935774287 13.637846040216994]]]</pre></td></tr><tr><th>Units</th><td style='text-align:left;'>pascal</td></tr></tbody></table>"
      ],
      "text/latex": [
       "$arr[,0,:,:] = \\begin{pmatrix} &  & \\\\ \n",
       " &  & \\\\ \n",
       " &  & \\end{pmatrix}\n",
       "arr[,1,:,:] = \\begin{pmatrix} &  & \\\\ \n",
       " &  & \\\\ \n",
       " &  & \\end{pmatrix}\n",
       "arr[,2,:,:] = \\begin{pmatrix} &  & \\\\ \n",
       " &  & \\\\ \n",
       " &  & \\end{pmatrix}\\ \\mathrm{pascal}$"
      ],
      "text/plain": [
       "<Quantity([[[1916.7163842  2106.79447244 1798.50534655]\n",
       "  [2173.71931631 1978.33417149 1741.83423515]\n",
       "  [2041.67993905 1856.78654118 1916.7163842 ]]\n",
       "\n",
       " [[ 484.39990096  521.73121713  466.63949458]\n",
       "  [ 611.2         502.75804213  416.77770463]\n",
       "  [ 541.3371358   449.45992752  484.39990096]]\n",
       "\n",
       " [[  13.63784604   15.16427401   12.92830316]\n",
       "  [  16.84452743   14.38264962   10.99649766]\n",
       "  [  15.9843393    12.25251894   13.63784604]]], 'pascal')>"
      ]
     },
     "execution_count": 7,
     "metadata": {},
     "output_type": "execute_result"
    }
   ],
   "source": [
    "\"\"\"  Saturation Vapor Pressure  \"\"\"\n",
    "calc.saturation_vapor_pressure(T, phase='liquid')"
   ]
  },
  {
   "cell_type": "code",
   "execution_count": 8,
   "id": "0afe5466-c84b-40d1-bbae-6ce1764b040f",
   "metadata": {},
   "outputs": [
    {
     "data": {
      "text/html": [
       "<table><tbody><tr><th>Magnitude</th><td style='text-align:left;'><pre>[[[2253.338712652061 2512.3957075639105 2094.319734633772]  [2604.5501384042705 2336.8734994293027 2018.6807423832283]  [2423.1983460230813 2172.513586418339 2253.338712652061]] [[469.77095512229624 510.91379145358485 450.35277758210515]  [611.2 489.9490972085007 396.40392933193885]  [532.6924390197534 431.6687699074404 469.77095512229624]] [[8.92145836483208 10.018738344620118 8.415522685710357]  [11.239626839482124 9.455393161268715 7.05250462140726]  [10.612969053649982 7.936236264306855 8.92145836483208]]]</pre></td></tr><tr><th>Units</th><td style='text-align:left;'>pascal</td></tr></tbody></table>"
      ],
      "text/latex": [
       "$arr[,0,:,:] = \\begin{pmatrix} &  & \\\\ \n",
       " &  & \\\\ \n",
       " &  & \\end{pmatrix}\n",
       "arr[,1,:,:] = \\begin{pmatrix} &  & \\\\ \n",
       " &  & \\\\ \n",
       " &  & \\end{pmatrix}\n",
       "arr[,2,:,:] = \\begin{pmatrix} &  & \\\\ \n",
       " &  & \\\\ \n",
       " &  & \\end{pmatrix}\\ \\mathrm{pascal}$"
      ],
      "text/plain": [
       "<Quantity([[[2253.33871265 2512.39570756 2094.31973463]\n",
       "  [2604.5501384  2336.87349943 2018.68074238]\n",
       "  [2423.19834602 2172.51358642 2253.33871265]]\n",
       "\n",
       " [[ 469.77095512  510.91379145  450.35277758]\n",
       "  [ 611.2         489.94909721  396.40392933]\n",
       "  [ 532.69243902  431.66876991  469.77095512]]\n",
       "\n",
       " [[   8.92145836   10.01873834    8.41552269]\n",
       "  [  11.23962684    9.45539316    7.05250462]\n",
       "  [  10.61296905    7.93623626    8.92145836]]], 'pascal')>"
      ]
     },
     "execution_count": 8,
     "metadata": {},
     "output_type": "execute_result"
    }
   ],
   "source": [
    "calc.saturation_vapor_pressure(T, phase='solid')"
   ]
  },
  {
   "cell_type": "code",
   "execution_count": 9,
   "id": "af70340b-99b1-419a-b115-e179e3f34799",
   "metadata": {},
   "outputs": [
    {
     "data": {
      "text/html": [
       "<table><tbody><tr><th>Magnitude</th><td style='text-align:left;'><pre>[[[1916.7163842047705 2106.79447244294 1798.5053465502558]  [2173.719316310318 1978.334171493004 1741.8342351486833]  [2041.6799390475408 1856.7865411821044 1916.7163842047705]] [[469.77095512229624 510.91379145358485 450.35277758210515]  [611.2 489.9490972085007 396.40392933193885]  [532.6924390197534 431.6687699074404 469.77095512229624]] [[8.92145836483208 10.018738344620118 8.415522685710357]  [11.239626839482124 9.455393161268715 7.05250462140726]  [10.612969053649982 7.936236264306855 8.92145836483208]]]</pre></td></tr><tr><th>Units</th><td style='text-align:left;'>pascal</td></tr></tbody></table>"
      ],
      "text/latex": [
       "$arr[,0,:,:] = \\begin{pmatrix} &  & \\\\ \n",
       " &  & \\\\ \n",
       " &  & \\end{pmatrix}\n",
       "arr[,1,:,:] = \\begin{pmatrix} &  & \\\\ \n",
       " &  & \\\\ \n",
       " &  & \\end{pmatrix}\n",
       "arr[,2,:,:] = \\begin{pmatrix} &  & \\\\ \n",
       " &  & \\\\ \n",
       " &  & \\end{pmatrix}\\ \\mathrm{pascal}$"
      ],
      "text/plain": [
       "<Quantity([[[1916.7163842  2106.79447244 1798.50534655]\n",
       "  [2173.71931631 1978.33417149 1741.83423515]\n",
       "  [2041.67993905 1856.78654118 1916.7163842 ]]\n",
       "\n",
       " [[ 469.77095512  510.91379145  450.35277758]\n",
       "  [ 611.2         489.94909721  396.40392933]\n",
       "  [ 532.69243902  431.66876991  469.77095512]]\n",
       "\n",
       " [[   8.92145836   10.01873834    8.41552269]\n",
       "  [  11.23962684    9.45539316    7.05250462]\n",
       "  [  10.61296905    7.93623626    8.92145836]]], 'pascal')>"
      ]
     },
     "execution_count": 9,
     "metadata": {},
     "output_type": "execute_result"
    }
   ],
   "source": [
    "calc.saturation_vapor_pressure(T, phase='auto')"
   ]
  },
  {
   "cell_type": "code",
   "execution_count": 4,
   "id": "5c23521b-0399-4d4a-911c-48b80e215e43",
   "metadata": {},
   "outputs": [
    {
     "data": {
      "text/html": [
       "<table><tbody><tr><th>Magnitude</th><td style='text-align:left;'><pre>[[[15.853558015562669 15.413902593920966 16.701567390777143]  [14.025208646055432 16.282601251680376 17.511211478471466]  [14.963055117172814 17.11095127609832 15.853558015562669]] [[3.7669019036748637 2.8531933760584707 5.452014248503474]  [0.8511235713975225 4.631394405840126 1.8838606023199986]  [1.8838606023199986 0.8511235713975225 3.7669019036748637]] [[-17.932890833718574 -22.627880542797868 -20.541141526475542]  [-15.756057831318401 -19.61251559878781 -21.541916014957764]  [-22.627880542797868 -18.74581916337604 -20.541141526475542]]]</pre></td></tr><tr><th>Units</th><td style='text-align:left;'>degree_Celsius</td></tr></tbody></table>"
      ],
      "text/latex": [
       "$arr[,0,:,:] = \\begin{pmatrix} &  & \\\\ \n",
       " &  & \\\\ \n",
       " &  & \\end{pmatrix}\n",
       "arr[,1,:,:] = \\begin{pmatrix} &  & \\\\ \n",
       " &  & \\\\ \n",
       " &  & \\end{pmatrix}\n",
       "arr[,2,:,:] = \\begin{pmatrix} &  & \\\\ \n",
       " &  & \\\\ \n",
       " &  & \\end{pmatrix}\\ \\mathrm{degree\\_Celsius}$"
      ],
      "text/plain": [
       "<Quantity([[[ 15.85355802  15.41390259  16.70156739]\n",
       "  [ 14.02520865  16.28260125  17.51121148]\n",
       "  [ 14.96305512  17.11095128  15.85355802]]\n",
       "\n",
       " [[  3.7669019    2.85319338   5.45201425]\n",
       "  [  0.85112357   4.63139441   1.8838606 ]\n",
       "  [  1.8838606    0.85112357   3.7669019 ]]\n",
       "\n",
       " [[-17.93289083 -22.62788054 -20.54114153]\n",
       "  [-15.75605783 -19.6125156  -21.54191601]\n",
       "  [-22.62788054 -18.74581916 -20.54114153]]], 'degree_Celsius')>"
      ]
     },
     "execution_count": 4,
     "metadata": {},
     "output_type": "execute_result"
    }
   ],
   "source": [
    "\"\"\"  Dewpoint  \"\"\"\n",
    "vapor_pressure = np.array([\n",
    "    [[18.0, 17.5, 19.0],\n",
    "     [16.0, 18.5, 20.0],\n",
    "     [17.0, 19.5, 18.0]],\n",
    "\n",
    "    [[8.0, 7.5, 9.0],\n",
    "     [6.5, 8.5, 7.0],\n",
    "     [7.0, 6.5, 8.0]],\n",
    "\n",
    "    [[1.5, 1.0, 1.2],\n",
    "     [1.8, 1.3, 1.1],\n",
    "     [1.0, 1.4, 1.2]]\n",
    "]) * units.hPa\n",
    "calc.dewpoint(vapor_pressure)"
   ]
  },
  {
   "cell_type": "code",
   "execution_count": 5,
   "id": "7f826db4-350a-491f-9db1-e92fd620510d",
   "metadata": {},
   "outputs": [
    {
     "data": {
      "text/html": [
       "<table><tbody><tr><th>Magnitude</th><td style='text-align:left;'><pre>[[[17.98914344101964 17.48988681702285 18.9875091772936]  [15.991827018317748 18.488351016243037 19.985675997357077]  [16.990581555134238 19.486617599953224 17.98914344101964]] [[7.995711539921794 7.495685901316191 8.995704931076006]  [6.495600358407461 8.495719232731462 6.9956470132658275]  [6.9956470132658275 6.495600358407461 7.995711539921794]] [[1.2565360279236581 0.799814797249814 0.9797059801646864]  [1.5405763409572504 1.0711077612345898 0.8892528732660627]  [0.799814797249814 1.1634010509579429 0.9797059801646864]]]</pre></td></tr><tr><th>Units</th><td style='text-align:left;'>hectopascal</td></tr></tbody></table>"
      ],
      "text/latex": [
       "$arr[,0,:,:] = \\begin{pmatrix} &  & \\\\ \n",
       " &  & \\\\ \n",
       " &  & \\end{pmatrix}\n",
       "arr[,1,:,:] = \\begin{pmatrix} &  & \\\\ \n",
       " &  & \\\\ \n",
       " &  & \\end{pmatrix}\n",
       "arr[,2,:,:] = \\begin{pmatrix} &  & \\\\ \n",
       " &  & \\\\ \n",
       " &  & \\end{pmatrix}\\ \\mathrm{hectopascal}$"
      ],
      "text/plain": [
       "<Quantity([[[17.98914344 17.48988682 18.98750918]\n",
       "  [15.99182702 18.48835102 19.985676  ]\n",
       "  [16.99058156 19.4866176  17.98914344]]\n",
       "\n",
       " [[ 7.99571154  7.4956859   8.99570493]\n",
       "  [ 6.49560036  8.49571923  6.99564701]\n",
       "  [ 6.99564701  6.49560036  7.99571154]]\n",
       "\n",
       " [[ 1.25653603  0.7998148   0.97970598]\n",
       "  [ 1.54057634  1.07110776  0.88925287]\n",
       "  [ 0.7998148   1.16340105  0.97970598]]], 'hectopascal')>"
      ]
     },
     "execution_count": 5,
     "metadata": {},
     "output_type": "execute_result"
    }
   ],
   "source": [
    "calc.saturation_vapor_pressure(calc.dewpoint(vapor_pressure), phase='auto').to('hPa')"
   ]
  },
  {
   "cell_type": "code",
   "execution_count": 7,
   "id": "d61b4010-4a96-4219-8f0b-5b1bde0530cf",
   "metadata": {},
   "outputs": [
    {
     "data": {
      "text/html": [
       "<table><tbody><tr><th>Magnitude</th><td style='text-align:left;'><pre>[[[13.84289047327627 12.926522293624771 14.758750742216591]  [12.468149864844236 13.84289047327627 15.674096316089788]  [13.384769447202416 15.216488288993332 14.300884521246587]] [[0.04790091601705626 -0.8752533986960316 0.9706523254751005]  [-1.33697939220923 0.5093274337402818 -0.4136263284328834]  [-0.8752533986960316 -1.798803404761486 0.04790091601705626]] [[-32.44919221194519 -33.381718962811476 -31.51680061560222]  [-34.7807447843478 -32.44919221194519 -33.84803049170759]  [-33.381718962811476 -34.31437277085681 -32.91543919858452]]]</pre></td></tr><tr><th>Units</th><td style='text-align:left;'>degree_Celsius</td></tr></tbody></table>"
      ],
      "text/latex": [
       "$arr[,0,:,:] = \\begin{pmatrix} &  & \\\\ \n",
       " &  & \\\\ \n",
       " &  & \\end{pmatrix}\n",
       "arr[,1,:,:] = \\begin{pmatrix} &  & \\\\ \n",
       " &  & \\\\ \n",
       " &  & \\end{pmatrix}\n",
       "arr[,2,:,:] = \\begin{pmatrix} &  & \\\\ \n",
       " &  & \\\\ \n",
       " &  & \\end{pmatrix}\\ \\mathrm{degree\\_Celsius}$"
      ],
      "text/plain": [
       "<Quantity([[[ 13.84289047  12.92652229  14.75875074]\n",
       "  [ 12.46814986  13.84289047  15.67409632]\n",
       "  [ 13.38476945  15.21648829  14.30088452]]\n",
       "\n",
       " [[  0.04790092  -0.8752534    0.97065233]\n",
       "  [ -1.33697939   0.50932743  -0.41362633]\n",
       "  [ -0.8752534   -1.7988034    0.04790092]]\n",
       "\n",
       " [[-32.44919221 -33.38171896 -31.51680062]\n",
       "  [-34.78074478 -32.44919221 -33.84803049]\n",
       "  [-33.38171896 -34.31437277 -32.9154392 ]]], 'degree_Celsius')>"
      ]
     },
     "execution_count": 7,
     "metadata": {},
     "output_type": "execute_result"
    }
   ],
   "source": [
    "\"\"\"  Dewpoint From Relative Humidity  \"\"\"\n",
    "temperature = np.array([\n",
    "    [[25.0, 24.0, 26.0],\n",
    "     [23.5, 25.0, 27.0],\n",
    "     [24.5, 26.5, 25.5]],\n",
    "\n",
    "    [[10.0, 9.0, 11.0],\n",
    "     [8.5, 10.5, 9.5],\n",
    "     [9.0, 8.0, 10.0]],\n",
    "\n",
    "    [[-25.0, -26.0, -24.0],\n",
    "     [-27.5, -25.0, -26.5],\n",
    "     [-26.0, -27.0, -25.5]]\n",
    "]) * units.degC\n",
    "calc.dewpoint_from_relative_humidity(temperature, 50 * units.percent)"
   ]
  },
  {
   "cell_type": "code",
   "execution_count": 8,
   "id": "0cd307bf-5a00-4310-9daf-0c2f216f3f73",
   "metadata": {},
   "outputs": [
    {
     "data": {
      "text/html": [
       "<table><tbody><tr><th>Magnitude</th><td style='text-align:left;'><pre>[[[6.70438666976861 5.7688808835009695 7.589577963373415]  [4.776513668800874 6.336561452382853 7.064173632123072]  [5.960303563775824 6.70438666976861 6.521502816493808]] [[3.719337193058209 2.5875667023236133 4.361921352242405]  [2.111330801315887 3.049945741578256 3.499302260769241]  [2.820434326271652 2.351236182261914 3.2762026878411348]] [[-2.9899499178524707 -4.771855606884401 -1.395971366466938]  [-6.796358912162702 -3.677569296046613 -2.332217445832839]  [-4.398131214316265 -3.3298434157384236 -4.033522970631964]]]</pre></td></tr><tr><th>Units</th><td style='text-align:left;'>degree_Celsius</td></tr></tbody></table>"
      ],
      "text/latex": [
       "$arr[,0,:,:] = \\begin{pmatrix} &  & \\\\ \n",
       " &  & \\\\ \n",
       " &  & \\end{pmatrix}\n",
       "arr[,1,:,:] = \\begin{pmatrix} &  & \\\\ \n",
       " &  & \\\\ \n",
       " &  & \\end{pmatrix}\n",
       "arr[,2,:,:] = \\begin{pmatrix} &  & \\\\ \n",
       " &  & \\\\ \n",
       " &  & \\end{pmatrix}\\ \\mathrm{degree\\_Celsius}$"
      ],
      "text/plain": [
       "<Quantity([[[ 6.70438667  5.76888088  7.58957796]\n",
       "  [ 4.77651367  6.33656145  7.06417363]\n",
       "  [ 5.96030356  6.70438667  6.52150282]]\n",
       "\n",
       " [[ 3.71933719  2.5875667   4.36192135]\n",
       "  [ 2.1113308   3.04994574  3.49930226]\n",
       "  [ 2.82043433  2.35123618  3.27620269]]\n",
       "\n",
       " [[-2.98994992 -4.77185561 -1.39597137]\n",
       "  [-6.79635891 -3.6775693  -2.33221745]\n",
       "  [-4.39813121 -3.32984342 -4.03352297]]], 'degree_Celsius')>"
      ]
     },
     "execution_count": 8,
     "metadata": {},
     "output_type": "execute_result"
    }
   ],
   "source": [
    "relative_humidity = np.array([\n",
    "    [[80, 75, 85],\n",
    "     [70, 78, 82],\n",
    "     [76, 80, 79]],\n",
    "\n",
    "    [[65, 60, 68],\n",
    "     [58, 62, 64],\n",
    "     [61, 59, 63]],\n",
    "\n",
    "    [[40, 35, 45],\n",
    "     [30, 38, 42],\n",
    "     [36, 39, 37]]\n",
    "]) * units.percent\n",
    "calc.dewpoint_from_relative_humidity(10.0 * units.degC, relative_humidity)"
   ]
  },
  {
   "cell_type": "code",
   "execution_count": 4,
   "id": "d914d0e7-ef6e-4504-8e19-1bb5f8416591",
   "metadata": {},
   "outputs": [
    {
     "name": "stdout",
     "output_type": "stream",
     "text": [
      "epsilon:0.621957\n"
     ]
    },
    {
     "data": {
      "text/html": [
       "20.67365135017217 gram/kilogram"
      ],
      "text/latex": [
       "$20.67365135017217\\ \\frac{\\mathrm{gram}}{\\mathrm{kilogram}}$"
      ],
      "text/plain": [
       "<Quantity(20.6736514, 'gram / kilogram')>"
      ]
     },
     "execution_count": 4,
     "metadata": {},
     "output_type": "execute_result"
    }
   ],
   "source": [
    "\"\"\"  Saturation_Mixing_Ratio  \"\"\"\n",
    "P = 983 * units('hPa')\n",
    "T = 25 * units('degC')\n",
    "calc.saturation_mixing_ratio(P, T, phase='liquid').to('g/kg')"
   ]
  },
  {
   "cell_type": "code",
   "execution_count": 15,
   "id": "84ecaf35-e711-4485-8780-a3c9dc61fc45",
   "metadata": {},
   "outputs": [
    {
     "data": {
      "text/html": [
       "18.645731108930324 gram/kilogram"
      ],
      "text/latex": [
       "$18.645731108930324\\ \\frac{\\mathrm{gram}}{\\mathrm{kilogram}}$"
      ],
      "text/plain": [
       "<Quantity(18.6457311, 'gram / kilogram')>"
      ]
     },
     "execution_count": 15,
     "metadata": {},
     "output_type": "execute_result"
    }
   ],
   "source": [
    "calc.specific_humidity_from_mixing_ratio(19 * units('g/kg'))"
   ]
  },
  {
   "cell_type": "code",
   "execution_count": 16,
   "id": "5bca94ee-32ae-4d77-9586-f9ea0a841ed9",
   "metadata": {},
   "outputs": [
    {
     "name": "stdout",
     "output_type": "stream",
     "text": [
      "epsilon:0.621957\n"
     ]
    },
    {
     "data": {
      "text/html": [
       "10.791540983013425 gram/kilogram"
      ],
      "text/latex": [
       "$10.791540983013425\\ \\frac{\\mathrm{gram}}{\\mathrm{kilogram}}$"
      ],
      "text/plain": [
       "<Quantity(10.791541, 'gram / kilogram')>"
      ]
     },
     "execution_count": 16,
     "metadata": {},
     "output_type": "execute_result"
    }
   ],
   "source": [
    "calc.specific_humidity_from_dewpoint(988 * units.hPa, 15 * units.degC).to('g/kg')"
   ]
  },
  {
   "cell_type": "code",
   "execution_count": 5,
   "id": "0cef915f-9eee-4b1e-ae92-a872f904b5a9",
   "metadata": {},
   "outputs": [
    {
     "data": {
      "text/plain": [
       "array([0.01864573, 0.01960784])"
      ]
     },
     "execution_count": 5,
     "metadata": {},
     "output_type": "execute_result"
    }
   ],
   "source": [
    "w = np.array([0.019, 0.02])\n",
    "calc_mod.specific_humidity_from_mixing_ratio(w)"
   ]
  },
  {
   "cell_type": "code",
   "execution_count": 6,
   "id": "06903d84-2ed0-41bf-bcbb-92deab985bcb",
   "metadata": {},
   "outputs": [
    {
     "data": {
      "text/plain": [
       "array([0.01079154, 0.01334813])"
      ]
     },
     "execution_count": 6,
     "metadata": {},
     "output_type": "execute_result"
    }
   ],
   "source": [
    "P = np.array([98800, 80000])\n",
    "\n",
    "calc_mod.specific_humidity_from_dewpoint(P, 15+273.15, \"liquid\")"
   ]
  },
  {
   "cell_type": "code",
   "execution_count": 11,
   "id": "3c3e6206-7258-4602-8533-b61e69e3a234",
   "metadata": {},
   "outputs": [
    {
     "data": {
      "text/html": [
       "461.52311572606084 joule/(kelvin kilogram)"
      ],
      "text/latex": [
       "$461.52311572606084\\ \\frac{\\mathrm{joule}}{\\left(\\mathrm{kelvin} \\cdot \\mathrm{kilogram}\\right)}$"
      ],
      "text/plain": [
       "<Quantity(461.523116, 'joule / kelvin / kilogram')>"
      ]
     },
     "execution_count": 11,
     "metadata": {},
     "output_type": "execute_result"
    }
   ],
   "source": [
    "calc.moist_air_gas_constant(1000 * units('g/kg'))"
   ]
  },
  {
   "cell_type": "code",
   "execution_count": 12,
   "id": "ce46fc90-011f-4636-97ed-606f19f29883",
   "metadata": {},
   "outputs": [
    {
     "data": {
      "text/html": [
       "1860.078011865639 joule/(kelvin kilogram)"
      ],
      "text/latex": [
       "$1860.078011865639\\ \\frac{\\mathrm{joule}}{\\left(\\mathrm{kelvin} \\cdot \\mathrm{kilogram}\\right)}$"
      ],
      "text/plain": [
       "<Quantity(1860.07801, 'joule / kelvin / kilogram')>"
      ]
     },
     "execution_count": 12,
     "metadata": {},
     "output_type": "execute_result"
    }
   ],
   "source": [
    "calc.moist_air_specific_heat_pressure(1000 * units('g/kg'))"
   ]
  },
  {
   "cell_type": "code",
   "execution_count": 20,
   "id": "a483f369-bb50-4225-9ec8-b7a0fb8e38da",
   "metadata": {},
   "outputs": [
    {
     "data": {
      "text/plain": [
       "array([287.04749098, 290.53700347])"
      ]
     },
     "execution_count": 20,
     "metadata": {},
     "output_type": "execute_result"
    }
   ],
   "source": [
    "w = np.array([0.0, 0.02])\n",
    "\n",
    "calc_mod.moist_air_gas_constant(w)"
   ]
  },
  {
   "cell_type": "code",
   "execution_count": 19,
   "id": "a4840154-fda4-4f96-8ddf-8509a387a5d9",
   "metadata": {},
   "outputs": [
    {
     "data": {
      "text/plain": [
       "array([1020.9190425 , 1021.77445429])"
      ]
     },
     "execution_count": 19,
     "metadata": {},
     "output_type": "execute_result"
    }
   ],
   "source": [
    "calc_mod.moist_air_specific_heat_pressure(w)"
   ]
  },
  {
   "cell_type": "code",
   "execution_count": null,
   "id": "ac772bf6-fa98-497f-a9a1-5cc9cab1d669",
   "metadata": {},
   "outputs": [],
   "source": []
  },
  {
   "cell_type": "code",
   "execution_count": 2,
   "id": "c1b824b6-e3e3-4cf9-af92-075f3b59597b",
   "metadata": {},
   "outputs": [
    {
     "data": {
      "text/plain": [
       "(<Quantity([[[877.03354856 980.65222467 968.76852844]\n",
       "   [978.68074571 966.28759905 959.19582964]\n",
       "   [963.84179385 954.34073777 949.45131027]]\n",
       " \n",
       "  [[818.26745788 813.37943203 802.58770619]\n",
       "   [803.71584241 799.04854208 794.1626151 ]\n",
       "   [789.31301026 784.42733391 773.83692518]]\n",
       " \n",
       "  [[676.92475305 672.01898578 667.32373333]\n",
       "   [667.86999884 657.58393401 658.17247326]\n",
       "   [647.84551231 642.94267082 638.20969863]]], 'hectopascal')>,\n",
       " <Quantity([[[ 26.75919085  21.51680086  22.8916154 ]\n",
       "   [ 21.01817361  21.89507951  23.88808225]\n",
       "   [ 21.39679862  23.38981842  22.39329015]]\n",
       " \n",
       "  [[  6.94427062   5.94741401   7.33213324]\n",
       "   [  5.44896923   7.44265741   6.44581151]\n",
       "   [  5.94737845   4.95050713   6.33586744]]\n",
       " \n",
       "  [[-27.3648959  -28.36273895 -26.3670627 ]\n",
       "   [-29.2708403  -27.36489775 -28.2724544 ]\n",
       "   [-28.36274108 -29.36059224 -27.86381979]]], 'degree_Celsius')>)"
      ]
     },
     "execution_count": 2,
     "metadata": {},
     "output_type": "execute_result"
    }
   ],
   "source": [
    "\"\"\"  LCL  \"\"\"\n",
    "P = np.array([\n",
    "    [[943.0, 1010.0, 1005.0],\n",
    "     [1008.0, 1002.5, 995.0],\n",
    "     [1000.0, 990.0, 985.0]],\n",
    "\n",
    "    [[850.0, 845.0, 840.0],\n",
    "     [835.0, 830.0, 825.0],\n",
    "     [820.0, 815.0, 810.0]],\n",
    "\n",
    "    [[700.0, 695.0, 690.0],\n",
    "     [685.0, 680.0, 675.0],\n",
    "     [670.0, 665.0, 660.0]]\n",
    "])\n",
    "\n",
    "T = np.array([\n",
    "    [[33.0, 24.0, 26.0],\n",
    "     [23.5, 25.0, 27.0],\n",
    "     [24.5, 26.5, 25.5]],\n",
    "\n",
    "    [[10.0, 9.0, 11.0],\n",
    "     [8.5, 10.5, 9.5],\n",
    "     [9.0, 8.0, 10.0]],\n",
    "\n",
    "    [[-25.0, -26.0, -24.0],\n",
    "     [-27.5, -25.0, -26.5],\n",
    "     [-26.0, -27.0, -25.5]]\n",
    "])\n",
    "\n",
    "dewT = np.array([\n",
    "    [[28.0, 22.0, 23.5],\n",
    "     [21.5, 22.5, 24.5],\n",
    "     [22.0, 24.0, 23.0]],\n",
    "\n",
    "    [[7.5, 6.5, 8.0],\n",
    "     [6.0, 8.0, 7.0],\n",
    "     [6.5, 5.5, 7.0]],\n",
    "\n",
    "    [[-27.0, -28.0, -26.0],\n",
    "     [-29.0, -27.0, -28.0],\n",
    "     [-28.0, -29.0, -27.5]]\n",
    "])\n",
    "\n",
    "calc.lcl(P * units.hPa, T * units.degC, dewT * units.degC)"
   ]
  },
  {
   "cell_type": "code",
   "execution_count": 4,
   "id": "77be7cf9-57a4-4cd5-90b4-7a3c724d951b",
   "metadata": {},
   "outputs": [
    {
     "data": {
      "text/plain": [
       "(<Quantity([[[877.03354856 980.65222467 968.76852844]\n",
       "   [978.68074571 966.28759905 959.19582964]\n",
       "   [963.84179385 954.34073777 949.45131027]]\n",
       " \n",
       "  [[818.26745788 813.37943203 802.58770619]\n",
       "   [803.71584241 799.04854208 794.1626151 ]\n",
       "   [789.31301026 784.42733391 773.83692518]]\n",
       " \n",
       "  [[676.92475305 672.01898578 667.32373333]\n",
       "   [667.86999884 657.58393401 658.17247326]\n",
       "   [647.84551231 642.94267082 638.20969863]]], 'hectopascal')>,\n",
       " <Quantity([[[ 26.75919085  21.51680086  22.8916154 ]\n",
       "   [ 21.01817361  21.89507951  23.88808225]\n",
       "   [ 21.39679862  23.38981842  22.39329015]]\n",
       " \n",
       "  [[  6.94427062   5.94741401   7.33213324]\n",
       "   [  5.44896923   7.44265741   6.44581151]\n",
       "   [  5.94737845   4.95050713   6.33586744]]\n",
       " \n",
       "  [[-27.3648959  -28.36273895 -26.3670627 ]\n",
       "   [-29.2708403  -27.36489775 -28.2724544 ]\n",
       "   [-28.36274108 -29.36059224 -27.86381979]]], 'degree_Celsius')>)"
      ]
     },
     "execution_count": 4,
     "metadata": {},
     "output_type": "execute_result"
    }
   ],
   "source": [
    "calc.lcl_manual(P * units.hPa, T * units.degC, dewT * units.degC)\n"
   ]
  },
  {
   "cell_type": "code",
   "execution_count": 3,
   "id": "f63371e4-4b85-460e-b29b-bdc4d7369995",
   "metadata": {},
   "outputs": [
    {
     "ename": "TypeError",
     "evalue": "lcl(): incompatible function arguments. The following argument types are supported:\n    1. (pressure: float, temperature: float, dewpoint: float) -> tuple[float, float]\n\nInvoked with: array([[[ 94300., 101000., 100500.],\n        [100800., 100250.,  99500.],\n        [100000.,  99000.,  98500.]],\n\n       [[ 85000.,  84500.,  84000.],\n        [ 83500.,  83000.,  82500.],\n        [ 82000.,  81500.,  81000.]],\n\n       [[ 70000.,  69500.,  69000.],\n        [ 68500.,  68000.,  67500.],\n        [ 67000.,  66500.,  66000.]]]), array([[[306.15, 297.15, 299.15],\n        [296.65, 298.15, 300.15],\n        [297.65, 299.65, 298.65]],\n\n       [[283.15, 282.15, 284.15],\n        [281.65, 283.65, 282.65],\n        [282.15, 281.15, 283.15]],\n\n       [[248.15, 247.15, 249.15],\n        [245.65, 248.15, 246.65],\n        [247.15, 246.15, 247.65]]]), array([[[301.15, 295.15, 296.65],\n        [294.65, 295.65, 297.65],\n        [295.15, 297.15, 296.15]],\n\n       [[280.65, 279.65, 281.15],\n        [279.15, 281.15, 280.15],\n        [279.65, 278.65, 280.15]],\n\n       [[246.15, 245.15, 247.15],\n        [244.15, 246.15, 245.15],\n        [245.15, 244.15, 245.65]]])",
     "output_type": "error",
     "traceback": [
      "\u001b[31m---------------------------------------------------------------------------\u001b[39m",
      "\u001b[31mTypeError\u001b[39m                                 Traceback (most recent call last)",
      "\u001b[36mCell\u001b[39m\u001b[36m \u001b[39m\u001b[32mIn[3]\u001b[39m\u001b[32m, line 1\u001b[39m\n\u001b[32m----> \u001b[39m\u001b[32m1\u001b[39m P_lcl, T_lcl = \u001b[43mcalc_mod\u001b[49m\u001b[43m.\u001b[49m\u001b[43mlcl\u001b[49m\u001b[43m(\u001b[49m\u001b[43mP\u001b[49m\u001b[43m \u001b[49m\u001b[43m*\u001b[49m\u001b[43m \u001b[49m\u001b[32;43m100\u001b[39;49m\u001b[43m,\u001b[49m\u001b[43m \u001b[49m\u001b[43mT\u001b[49m\u001b[43m+\u001b[49m\u001b[32;43m273.15\u001b[39;49m\u001b[43m,\u001b[49m\u001b[43m \u001b[49m\u001b[43mdewT\u001b[49m\u001b[43m+\u001b[49m\u001b[32;43m273.15\u001b[39;49m\u001b[43m)\u001b[49m\n\u001b[32m      2\u001b[39m \u001b[38;5;28mprint\u001b[39m(P_lcl/\u001b[32m100\u001b[39m, \u001b[33m'\u001b[39m\u001b[33mhPa\u001b[39m\u001b[33m'\u001b[39m)\n\u001b[32m      3\u001b[39m \u001b[38;5;28mprint\u001b[39m(T_lcl-\u001b[32m273.15\u001b[39m, \u001b[33m'\u001b[39m\u001b[33mdegC\u001b[39m\u001b[33m'\u001b[39m)\n",
      "\u001b[31mTypeError\u001b[39m: lcl(): incompatible function arguments. The following argument types are supported:\n    1. (pressure: float, temperature: float, dewpoint: float) -> tuple[float, float]\n\nInvoked with: array([[[ 94300., 101000., 100500.],\n        [100800., 100250.,  99500.],\n        [100000.,  99000.,  98500.]],\n\n       [[ 85000.,  84500.,  84000.],\n        [ 83500.,  83000.,  82500.],\n        [ 82000.,  81500.,  81000.]],\n\n       [[ 70000.,  69500.,  69000.],\n        [ 68500.,  68000.,  67500.],\n        [ 67000.,  66500.,  66000.]]]), array([[[306.15, 297.15, 299.15],\n        [296.65, 298.15, 300.15],\n        [297.65, 299.65, 298.65]],\n\n       [[283.15, 282.15, 284.15],\n        [281.65, 283.65, 282.65],\n        [282.15, 281.15, 283.15]],\n\n       [[248.15, 247.15, 249.15],\n        [245.65, 248.15, 246.65],\n        [247.15, 246.15, 247.65]]]), array([[[301.15, 295.15, 296.65],\n        [294.65, 295.65, 297.65],\n        [295.15, 297.15, 296.15]],\n\n       [[280.65, 279.65, 281.15],\n        [279.15, 281.15, 280.15],\n        [279.65, 278.65, 280.15]],\n\n       [[246.15, 245.15, 247.15],\n        [244.15, 246.15, 245.15],\n        [245.15, 244.15, 245.65]]])"
     ]
    }
   ],
   "source": [
    "P_lcl, T_lcl = calc_mod.lcl(P * 100, T+273.15, dewT+273.15)\n",
    "print(P_lcl/100, 'hPa')\n",
    "print(T_lcl-273.15, 'degC')"
   ]
  },
  {
   "cell_type": "code",
   "execution_count": null,
   "id": "473a069a-b19c-4cdc-8588-d5b9b59cd3b7",
   "metadata": {},
   "outputs": [],
   "source": []
  }
 ],
 "metadata": {
  "kernelspec": {
   "display_name": "Python (metpy_dev)",
   "language": "python",
   "name": "metpy_dev"
  },
  "language_info": {
   "codemirror_mode": {
    "name": "ipython",
    "version": 3
   },
   "file_extension": ".py",
   "mimetype": "text/x-python",
   "name": "python",
   "nbconvert_exporter": "python",
   "pygments_lexer": "ipython3",
   "version": "3.13.3"
  }
 },
 "nbformat": 4,
 "nbformat_minor": 5
}
