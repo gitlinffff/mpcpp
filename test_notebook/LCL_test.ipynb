{
 "cells": [
  {
   "cell_type": "markdown",
   "id": "9acf6480-cd82-48d8-9f3b-79c4339497c3",
   "metadata": {},
   "source": [
    "# LCL test"
   ]
  },
  {
   "cell_type": "code",
   "execution_count": 1,
   "id": "8d89fc72-468c-4b3d-b797-a3e21607ebe7",
   "metadata": {},
   "outputs": [],
   "source": [
    "import metpy.calc as calc\n",
    "import metpy._calc_mod as calc_mod\n",
    "from metpy.units import units\n",
    "import numpy as np"
   ]
  },
  {
   "cell_type": "code",
   "execution_count": 2,
   "id": "f9a0c7b6-e747-4acc-94bb-5a48ebf4ee77",
   "metadata": {},
   "outputs": [],
   "source": [
    "shape = (50, 800, 800)\n",
    "\n",
    "# Generate synthetic temperature (in degC) with a realistic gradient\n",
    "T_C = np.random.normal(loc=25.0, scale=5.0, size=shape)  # e.g., mean 25°C, stddev 10\n",
    "\n",
    "# Generate dew point temperatures a few degrees lower than temperature\n",
    "dewT_C = T_C - np.abs(np.random.normal(loc=3.0, scale=2.0, size=shape))  # always <= T_C\n",
    "\n",
    "# Generate pressure values in hPa, decreasing with altitude\n",
    "z = np.linspace(0, 8, shape[0])  # approx. 0 to 12 km altitude\n",
    "P_levels = 1013.25 * np.exp(-z / 7.0)  # simple exponential decay\n",
    "P_hPa = P_levels[:, None, None] * np.ones((1, shape[1], shape[2]))"
   ]
  },
  {
   "cell_type": "code",
   "execution_count": 3,
   "id": "44325131-9393-4925-9eef-c16a00537264",
   "metadata": {},
   "outputs": [],
   "source": [
    "# save the data\n",
    "np.savez('data.npz', T_C=T_C, dewT_C=dewT_C, P_hPa=P_hPa)"
   ]
  },
  {
   "cell_type": "code",
   "execution_count": 3,
   "id": "b37fc706-1e35-4c7b-b297-4b02d8daa34f",
   "metadata": {},
   "outputs": [],
   "source": [
    "# load the data\n",
    "data = np.load('data.npz')\n",
    "\n",
    "T_C = data['T_C']\n",
    "dewT_C = data['dewT_C']\n",
    "P_hPa = data['P_hPa']"
   ]
  },
  {
   "cell_type": "markdown",
   "id": "6fdfd051-f3e1-4cb5-9b2b-292ad438978d",
   "metadata": {},
   "source": [
    "## Original LCL in Python"
   ]
  },
  {
   "cell_type": "code",
   "execution_count": 4,
   "id": "5d6f28a3-32ff-4707-8757-f75870822ef0",
   "metadata": {},
   "outputs": [
    {
     "name": "stdout",
     "output_type": "stream",
     "text": [
      "CPU times: user 9.96 s, sys: 845 ms, total: 10.8 s\n",
      "Wall time: 11 s\n"
     ]
    }
   ],
   "source": [
    "%%time\n",
    "p_lcl, t_lcl = calc.lcl(P_hPa * units.hPa, T_C * units.degC, dewT_C * units.degC)"
   ]
  },
  {
   "cell_type": "code",
   "execution_count": 6,
   "id": "8509f883-d4c5-4614-a04e-3db260a70103",
   "metadata": {},
   "outputs": [
    {
     "name": "stdout",
     "output_type": "stream",
     "text": [
      "[951.153573816652 989.1944898420074 946.6832526346772 902.0721180469827 890.1661293868065 843.6444404458566 841.8376895352983 808.5338690856872 774.520937986129 812.9349463531141 773.8117437404695 768.1940174696426 721.7861116323601 716.382007064664 711.4717205953177 669.5837345020277 646.6572385769028 678.5599939688796 645.6435114243565 647.4110005513435 611.1274149210313 612.4685826103347 567.5442244992857 546.7451513144853 553.8672269332386 557.5438709278977 539.5529538618025 526.965383201809 492.5482768155783 471.2649364340462 466.05814841805284 463.46562378761126 453.3871261214159 416.07086602094546 432.646798386456 428.15205763180717 419.39421739826236 400.6908230723861 381.99411721648124 404.3197832440895 380.81069433718875 368.6329429411107 374.5870738731854 370.50785049755297 340.53350906343934 326.76139058519067 341.98729173670046 310.74403541194397 291.8358487737801 297.5371721701187] hectopascal\n",
      "\n",
      "\n",
      "[16.759164760033173 32.92897916206164 19.947631724967664 14.613826676781855 18.529838290286307 25.842637843116165 21.864143820144307 19.281432834357815 18.860277990190184 18.461528518197667 7.382002350558878 28.629599505013005 12.242360689636712 13.236097070957669 31.908189915353887 22.79010260632907 21.190634705167497 20.761578288364717 21.95355701169035 27.993907054281124 18.96649117752321 23.490375748253825 22.389434065424155 19.848275169992746 21.518570171889735 19.844321591079506 28.83506312009223 18.65580150228726 18.52477174173208 21.658912497572828 7.971705494809839 21.29372067616322 30.57361112852209 18.636597478189458 16.621784844553417 12.788995926749749 20.69919014228759 18.701952460575967 12.345794546168293 33.7915032096073 11.739354321092776 26.524160314947835 18.87162020124731 24.98063437273146 13.688545923310699 24.021185248709457 22.40258730639391 9.975476482125146 7.631890066464393 20.898746358244523] degree_Celsius\n"
     ]
    }
   ],
   "source": [
    "print(p_lcl[:, 400, 400])\n",
    "print('\\n')\n",
    "print(t_lcl[:, 400, 400])"
   ]
  },
  {
   "cell_type": "code",
   "execution_count": null,
   "id": "3ea12e3a-3636-4102-a6cd-29db879990d6",
   "metadata": {},
   "outputs": [],
   "source": []
  },
  {
   "cell_type": "code",
   "execution_count": null,
   "id": "06eede90-be4c-4c69-a306-60c0f24463a8",
   "metadata": {},
   "outputs": [],
   "source": []
  },
  {
   "cell_type": "code",
   "execution_count": 5,
   "id": "62131dea-1d3e-45db-b300-6e505c327db0",
   "metadata": {},
   "outputs": [
    {
     "data": {
      "text/plain": [
       "array([], shape=(0, 3), dtype=int64)"
      ]
     },
     "execution_count": 5,
     "metadata": {},
     "output_type": "execute_result"
    }
   ],
   "source": [
    "idx_nan = np.argwhere(np.isnan(p_lcl))\n",
    "idx_nan"
   ]
  },
  {
   "cell_type": "code",
   "execution_count": 8,
   "id": "6b81827d-bbd1-4b4c-9787-950d59bd2ccc",
   "metadata": {},
   "outputs": [
    {
     "name": "stdout",
     "output_type": "stream",
     "text": [
      "T:  77.64458546365549 degC\n",
      "dewT:  76.46342469872707 degC\n",
      "P:  398.60607922080777 hPa\n"
     ]
    }
   ],
   "source": [
    "print(\"T: \", T_C[40,  32, 504], \"degC\")\n",
    "print(\"dewT: \", dewT_C[40,  32, 504], \"degC\")\n",
    "print(\"P: \", P_hPa[40,  32, 504], \"hPa\")"
   ]
  },
  {
   "cell_type": "markdown",
   "id": "a2ddfbbe-e19d-48a2-b6f3-f10f5ac819a3",
   "metadata": {},
   "source": [
    "## LCL manual vectorization in c++ pybind11"
   ]
  },
  {
   "cell_type": "code",
   "execution_count": 6,
   "id": "bf37e856-145d-4f51-98ee-3eea4e5d84ce",
   "metadata": {},
   "outputs": [
    {
     "name": "stdout",
     "output_type": "stream",
     "text": [
      "CPU times: user 5.9 s, sys: 298 ms, total: 6.2 s\n",
      "Wall time: 6.2 s\n"
     ]
    }
   ],
   "source": [
    "%%time\n",
    "p_lcl, t_lcl = calc.lcl_linfel(P_hPa * units.hPa, T_C * units.degC, dewT_C * units.degC)"
   ]
  },
  {
   "cell_type": "code",
   "execution_count": 8,
   "id": "93818900-f150-4a77-9382-0f20ea908fd4",
   "metadata": {},
   "outputs": [
    {
     "name": "stdout",
     "output_type": "stream",
     "text": [
      "[951.153573816652 989.1944898420074 946.6832526346786 902.0721180469827 890.1661293868057 843.6444404458562 841.8376895352983 808.5338690856872 774.5209379861296 812.9349463531141 773.8117437404695 768.1940174696426 721.7861116323592 716.382007064664 711.4717205953177 669.5837345020277 646.6572385769028 678.5599939688796 645.6435114243562 647.4110005513435 611.1274149210313 612.4685826103347 567.5442244992857 546.7451513144853 553.8672269332386 557.5438709278973 539.5529538618025 526.965383201809 492.54827681557845 471.2649364340462 466.05814841805284 463.46562378761126 453.3871261214159 416.07086602094546 432.646798386456 428.15205763180717 419.39421739826236 400.6908230723861 381.9941172164807 404.3197832440895 380.81069433718875 368.6329429411107 374.5870738731854 370.50785049755297 340.53350906343934 326.76139058519067 341.98729173670046 310.74403541194397 291.8358487737801 297.5371721701187] hectopascal\n",
      "\n",
      "\n",
      "[16.759164760033173 32.92897916206164 19.947631724967778 14.613826676781855 18.52983829028625 25.84263784311611 21.864143820144307 19.281432834357815 18.86027799019024 18.461528518197667 7.382002350558878 28.629599505013005 12.242360689636598 13.236097070957669 31.908189915353887 22.79010260632907 21.190634705167497 20.761578288364717 21.953557011690293 27.993907054281124 18.96649117752321 23.490375748253825 22.389434065424155 19.848275169992746 21.518570171889735 19.84432159107945 28.83506312009223 18.65580150228726 18.52477174173214 21.658912497572828 7.971705494809839 21.29372067616322 30.57361112852209 18.636597478189458 16.621784844553417 12.788995926749749 20.69919014228759 18.701952460575967 12.345794546168179 33.7915032096073 11.739354321092776 26.524160314947835 18.87162020124731 24.98063437273146 13.688545923310699 24.021185248709457 22.40258730639391 9.975476482125146 7.631890066464393 20.898746358244523] degree_Celsius\n"
     ]
    }
   ],
   "source": [
    "print(p_lcl[:, 400, 400])\n",
    "print('\\n')\n",
    "print(t_lcl[:, 400, 400])"
   ]
  },
  {
   "cell_type": "markdown",
   "id": "9a99545d-ab2c-4057-8e23-b77ac7c38520",
   "metadata": {},
   "source": [
    "## LCL manual vectorization in Python"
   ]
  },
  {
   "cell_type": "code",
   "execution_count": 3,
   "id": "85fa43b8-384c-4294-ac24-54b3363c4e84",
   "metadata": {},
   "outputs": [
    {
     "name": "stderr",
     "output_type": "stream",
     "text": [
      "Warning in function 'SaturationMixingRatio': Total pressure must be greater than the saturation vapor pressure for liquid water to be in equilibrium.\n",
      "Warning in function 'lambert_wm1': lambert_wm1 did not converge.\n",
      "Warning in function 'SaturationMixingRatio': Total pressure must be greater than the saturation vapor pressure for liquid water to be in equilibrium.\n",
      "Warning in function 'lambert_wm1': lambert_wm1 did not converge.\n",
      "Warning in function 'SaturationMixingRatio': Total pressure must be greater than the saturation vapor pressure for liquid water to be in equilibrium.\n",
      "Warning in function 'lambert_wm1': lambert_wm1 did not converge.\n",
      "Warning in function 'SaturationMixingRatio': Total pressure must be greater than the saturation vapor pressure for liquid water to be in equilibrium.\n",
      "Warning in function 'lambert_wm1': lambert_wm1 did not converge.\n"
     ]
    }
   ],
   "source": [
    "p_lcl, t_lcl = calc.lcl_manual(P_hPa * 100, T_C+273.15, dewT_C+273.15)"
   ]
  },
  {
   "cell_type": "markdown",
   "id": "2226b890-4a75-420b-9327-ffe88df0dfb0",
   "metadata": {},
   "source": [
    "#### time used: 21 s"
   ]
  },
  {
   "cell_type": "code",
   "execution_count": null,
   "id": "f6a7e174-3eb0-400d-aa25-de103f951f79",
   "metadata": {},
   "outputs": [],
   "source": []
  }
 ],
 "metadata": {
  "kernelspec": {
   "display_name": "Python (metpy_dev)",
   "language": "python",
   "name": "metpy_dev"
  },
  "language_info": {
   "codemirror_mode": {
    "name": "ipython",
    "version": 3
   },
   "file_extension": ".py",
   "mimetype": "text/x-python",
   "name": "python",
   "nbconvert_exporter": "python",
   "pygments_lexer": "ipython3",
   "version": "3.13.3"
  }
 },
 "nbformat": 4,
 "nbformat_minor": 5
}
