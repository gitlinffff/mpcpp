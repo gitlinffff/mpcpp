{
 "cells": [
  {
   "cell_type": "code",
   "execution_count": 15,
   "id": "9a3a243f-74ce-4eed-aa16-cd895e1f5604",
   "metadata": {},
   "outputs": [],
   "source": [
    "import metpy.calc as calc\n",
    "import metpy._calc_mod as calc_mod\n",
    "from metpy.units import units\n",
    "import numpy as np"
   ]
  },
  {
   "cell_type": "code",
   "execution_count": 16,
   "id": "2c315791-391b-4f39-8979-d1b9e9e97464",
   "metadata": {},
   "outputs": [],
   "source": [
    "# pressure\n",
    "p = [1008., 1000., 950., 900., 850., 800., 750., 700., 650., 600.,\n",
    "     550., 500., 450., 400., 350., 300., 250., 200.,\n",
    "     175., 150., 125., 100., 80., 70., 60., 50.,\n",
    "     40., 30., 25., 20.] * units.hPa\n",
    "# temperature\n",
    "T = [29.3, 28.1, 23.5, 20.9, 18.4, 15.9, 13.1, 10.1, 6.7, 3.1,\n",
    "     -0.5, -4.5, -9.0, -14.8, -21.5, -29.7, -40.0, -52.4,\n",
    "     -59.2, -66.5, -74.1, -78.5, -76.0, -71.6, -66.7, -61.3,\n",
    "     -56.3, -51.7, -50.7, -47.5] * units.degC\n",
    "# relative humidity\n",
    "rh = [.85, .65, .36, .39, .82, .72, .75, .86, .65, .22, .52,\n",
    "      .66, .64, .20, .05, .75, .76, .45, .25, .48, .76, .88,\n",
    "      .56, .88, .39, .67, .15, .04, .94, .35] * units.dimensionless\n",
    "# calculate dewpoint\n",
    "Td = calc.dewpoint_from_relative_humidity(T, rh)"
   ]
  },
  {
   "cell_type": "markdown",
   "id": "0d5ef6a3-8bac-4703-8d2b-0c94fb269e26",
   "metadata": {},
   "source": [
    "## An inconsistency in lfc.\n",
    "### If parcel_temperature_profile is not provided, it will produce a parcel temperature profile with lcl inserted into the profile. The lcl level will also be inserted into the pressure, temperature and dewpoint profile using interpolation.\n",
    "### However, if parcel_temperature_profile is provided, it will not do such insertion.\n"
   ]
  },
  {
   "cell_type": "code",
   "execution_count": 17,
   "id": "8807ab02-748c-49ad-ab5b-6f7949c9e0c1",
   "metadata": {},
   "outputs": [
    {
     "data": {
      "text/plain": [
       "(<Quantity(967.309996, 'hectopascal')>,\n",
       " <Quantity(25.778387, 'degree_Celsius')>)"
      ]
     },
     "execution_count": 17,
     "metadata": {},
     "output_type": "execute_result"
    }
   ],
   "source": [
    "calc.lfc(p, T, Td)"
   ]
  },
  {
   "cell_type": "code",
   "execution_count": 18,
   "id": "bdb1687b-f5a0-41e2-8772-b08acfde89da",
   "metadata": {},
   "outputs": [],
   "source": [
    "parcel_temp_profile = calc.parcel_profile(p, T[0], Td[0]).to('degC')"
   ]
  },
  {
   "cell_type": "code",
   "execution_count": 19,
   "id": "b21a8df8-0780-4a6d-8415-59fa951c4c94",
   "metadata": {},
   "outputs": [
    {
     "data": {
      "text/plain": [
       "(<Quantity(967.309996, 'hectopascal')>,\n",
       " <Quantity(25.778387, 'degree_Celsius')>)"
      ]
     },
     "execution_count": 19,
     "metadata": {},
     "output_type": "execute_result"
    }
   ],
   "source": [
    "calc.lfc(p, T, Td, parcel_temperature_profile=parcel_temp_profile)"
   ]
  },
  {
   "cell_type": "code",
   "execution_count": 20,
   "id": "6234d7f5-44b2-47b3-a8cb-cd2e647622d8",
   "metadata": {},
   "outputs": [
    {
     "data": {
      "text/plain": [
       "(<Quantity(967.309996, 'hectopascal')>,\n",
       " <Quantity(25.778387, 'degree_Celsius')>)"
      ]
     },
     "execution_count": 20,
     "metadata": {},
     "output_type": "execute_result"
    }
   ],
   "source": [
    "calc.lcl(p[0], T[0], Td[0])"
   ]
  },
  {
   "cell_type": "code",
   "execution_count": null,
   "id": "c8334d9e-ffa6-46b2-b93d-2285a776587d",
   "metadata": {},
   "outputs": [],
   "source": []
  },
  {
   "cell_type": "code",
   "execution_count": null,
   "id": "1f13dcbd-d865-4011-baa3-e128d7ab09bf",
   "metadata": {},
   "outputs": [],
   "source": []
  },
  {
   "cell_type": "markdown",
   "id": "1fc0a827-5ec6-4c29-a92b-20d39f310cca",
   "metadata": {},
   "source": [
    "# LFC test"
   ]
  },
  {
   "cell_type": "code",
   "execution_count": 7,
   "id": "c8426a08-9f58-4f13-a120-78f3e30cebd9",
   "metadata": {},
   "outputs": [],
   "source": [
    "import metpy.calc as calc\n",
    "import metpy._calc_mod as calc_mod\n",
    "from metpy.units import units\n",
    "import numpy as np"
   ]
  },
  {
   "cell_type": "code",
   "execution_count": 8,
   "id": "cbe6f6f1-c85c-4632-93ae-75dcf6c55e38",
   "metadata": {},
   "outputs": [],
   "source": [
    "# pressure\n",
    "p = [1008., 1000., 950., 900., 850., 800., 750., 700., 650., 600.,\n",
    "     550., 500., 450., 400., 350., 300., 250., 200.,\n",
    "     175., 150., 125., 100., 80., 70., 60., 50.,\n",
    "     40., 30., 25., 20.] * units.hPa\n",
    "# temperature\n",
    "T = [29.3, 28.1, 23.5, 20.9, 18.4, 15.9, 13.1, 10.1, 6.7, 3.1,\n",
    "     -0.5, -4.5, -9.0, -14.8, -21.5, -29.7, -40.0, -52.4,\n",
    "     -59.2, -66.5, -74.1, -78.5, -76.0, -71.6, -66.7, -61.3,\n",
    "     -56.3, -51.7, -50.7, -47.5] * units.degC\n",
    "# relative humidity\n",
    "rh = [.85, .65, .36, .39, .82, .72, .75, .86, .65, .22, .52,\n",
    "      .66, .64, .20, .05, .75, .76, .45, .25, .48, .76, .88,\n",
    "      .56, .88, .39, .67, .15, .04, .94, .35] * units.dimensionless\n",
    "# calculate dewpoint\n",
    "Td = calc.dewpoint_from_relative_humidity(T, rh)"
   ]
  },
  {
   "cell_type": "code",
   "execution_count": 9,
   "id": "44bfebb8-9cb4-40b4-8959-db94f1db5040",
   "metadata": {},
   "outputs": [
    {
     "name": "stdout",
     "output_type": "stream",
     "text": [
      "CPU times: user 33.4 s, sys: 456 ms, total: 33.9 s\n",
      "Wall time: 33.7 s\n"
     ]
    }
   ],
   "source": [
    "%%time\n",
    "\n",
    "for i in range(10000):\n",
    "    result = calc.lfc(p, T, Td)"
   ]
  },
  {
   "cell_type": "code",
   "execution_count": 10,
   "id": "e1ae6b0a-fcea-4406-a446-d272f7d6604e",
   "metadata": {},
   "outputs": [
    {
     "name": "stdout",
     "output_type": "stream",
     "text": [
      "CPU times: user 11.1 s, sys: 184 ms, total: 11.3 s\n",
      "Wall time: 11.1 s\n"
     ]
    }
   ],
   "source": [
    "%%time\n",
    "\n",
    "for i in range(10000):\n",
    "    calc.lfc_linfel(p, T, Td)"
   ]
  },
  {
   "cell_type": "markdown",
   "id": "ed413885-617f-4e8b-8d10-47c33a363402",
   "metadata": {},
   "source": [
    "# EL test"
   ]
  },
  {
   "cell_type": "code",
   "execution_count": 5,
   "id": "4bb7176c-e903-42b5-8c72-6b42d862ede2",
   "metadata": {},
   "outputs": [],
   "source": [
    "prof = calc.parcel_profile_linfel(p, T[0], Td[0]).to('degC')"
   ]
  },
  {
   "cell_type": "code",
   "execution_count": 6,
   "id": "0a3486a5-a49b-44fe-b7fe-791d31063c95",
   "metadata": {},
   "outputs": [
    {
     "data": {
      "text/plain": [
       "(<Quantity(112.251655, 'hectopascal')>,\n",
       " <Quantity(-76.2211012, 'degree_Celsius')>)"
      ]
     },
     "execution_count": 6,
     "metadata": {},
     "output_type": "execute_result"
    }
   ],
   "source": [
    "calc.el_linfel(p, T, Td, prof)"
   ]
  },
  {
   "cell_type": "code",
   "execution_count": null,
   "id": "3a587690-311d-45bd-b859-e60dcda62be4",
   "metadata": {},
   "outputs": [],
   "source": []
  }
 ],
 "metadata": {
  "kernelspec": {
   "display_name": "Python (metpy_dev)",
   "language": "python",
   "name": "metpy_dev"
  },
  "language_info": {
   "codemirror_mode": {
    "name": "ipython",
    "version": 3
   },
   "file_extension": ".py",
   "mimetype": "text/x-python",
   "name": "python",
   "nbconvert_exporter": "python",
   "pygments_lexer": "ipython3",
   "version": "3.13.3"
  }
 },
 "nbformat": 4,
 "nbformat_minor": 5
}
