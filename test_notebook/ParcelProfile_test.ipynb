{
 "cells": [
  {
   "cell_type": "code",
   "execution_count": 1,
   "id": "d339548e-9d51-4897-888e-a99a20b35fff",
   "metadata": {},
   "outputs": [],
   "source": [
    "import metpy.calc as calc\n",
    "import metpy._calc_mod as calc_mod\n",
    "from metpy.units import units\n",
    "import numpy as np"
   ]
  },
  {
   "cell_type": "markdown",
   "id": "8571b1f1-d987-4e87-8687-d07f7046d0ba",
   "metadata": {},
   "source": [
    "# Parcel Profile test"
   ]
  },
  {
   "cell_type": "code",
   "execution_count": 2,
   "id": "20febf1e-46bb-4f5a-b33b-4a8bd8feb7ad",
   "metadata": {},
   "outputs": [],
   "source": [
    "p = np.array([100000.0000,  97127.4020,  94337.3222,  91627.3901,  88995.3035,\n",
    "          86438.8262,  83955.7862,  81544.0740,  79201.6405,  76926.4957,\n",
    "          74716.7068,  72570.3961,  70485.7404,  68460.9684,  66494.3600,\n",
    "          64584.2443,  62728.9986,  60927.0466,  59176.8575,  57476.9442,\n",
    "          55825.8627,  54222.2101,  52664.6239,  51151.7810,  49682.3959,\n",
    "          48255.2204,  46869.0419,  45522.6828,  44214.9991,  42944.8799,\n",
    "          41711.2461,  40513.0497,  39349.2726,  38218.9262,  37121.0501,\n",
    "          36054.7115,  35019.0046,  34013.0494,  33035.9912,  32087.0000,\n",
    "          31165.2694,  30270.0165,  29400.4806,  28555.9230,  27735.6261,\n",
    "          26938.8931,  26165.0470,  25413.4304,  24683.4047,  23974.3497,\n",
    "          23285.6630,  22616.7595,  21967.0709,  21336.0453,  20723.1465,\n",
    "          20127.8538,  19549.6614,  18988.0782,  18442.6271,  17912.8445,\n",
    "          17398.2805,  16898.4979,  16413.0720,  15941.5904,  15483.6526,\n",
    "          15038.8695,  14606.8632,  14187.2667,  13779.7236,  13383.8875,\n",
    "          12999.4222,  12626.0011,  12263.3068,  11911.0313,  11568.8753,\n",
    "          11236.5480,  10913.7671,  10600.2585,  10295.7557,  10000.0000]) * units.Pa\n",
    "T = 29.3 * units.degC\n",
    "Td = 26.5 * units.degC"
   ]
  },
  {
   "cell_type": "markdown",
   "id": "71c5c06b-6c86-4bea-80c6-bfe52d5a6372",
   "metadata": {},
   "source": [
    "### Metpy thermo"
   ]
  },
  {
   "cell_type": "code",
   "execution_count": 3,
   "id": "ec709c0d-0a46-42b8-8fe4-f4c93f9134ab",
   "metadata": {},
   "outputs": [
    {
     "name": "stdout",
     "output_type": "stream",
     "text": [
      "[302.45 299.9417716272803 298.37540588819746 297.42974667769613 296.4802776295926 295.52674223997985 294.5688661767686 293.6063583706474 292.63891472095344 291.66621934369874 290.68793979539595 289.7037288481643 288.7132204029425 287.71603094039324 286.7117552583693 285.69997175015436 284.68023550727196 283.6520819238614 282.61501985882785 281.5685367666271 280.5120935521287 279.44512689685655 278.3670430034542 277.2772211749399 276.1750152128525 275.05974837856326 273.9307147695703 272.78718512093826 271.6283991488385 270.4535706130164 269.2618929275284 268.0525386820213 266.8246677151716 265.57742679610107 264.3099653770351 263.0214355129586 261.7110110306499 260.377893581563 259.0213335238505 257.64064140532344 256.2352112103847 254.80454137413778 253.3482560405507 251.86612894207346 250.35810613794914 248.82432828273818 247.26514876816034 245.68114944072153 244.073149566312 242.44220823932744 240.78961936533025 239.11689728439364 237.4257545033143 235.71807430469212 233.9958759334081 232.26126735319946 230.51641075950022 228.76347904910827 227.00461570971058 225.24189910460848 223.47731460641083 221.71272891984367 219.949872153566 218.1903292389249 216.43553836274836 214.68678065682943 212.94518776230316 211.21174917569627 209.48732510545278 207.7726489164171 206.06834245567194 204.3749274513169 202.69283567254044 201.0224220052484 199.36396723421208 197.71769259094785 196.08376783844963 194.46231776777915 192.85343065758477 191.2571629878398] kelvin\n",
      "CPU times: user 23.8 s, sys: 382 ms, total: 24.2 s\n",
      "Wall time: 24 s\n"
     ]
    }
   ],
   "source": [
    "%%time\n",
    "for i in range(10000):\n",
    "    temp_profile = calc.parcel_profile(p, T, Td)\n",
    "\n",
    "print(temp_profile)"
   ]
  },
  {
   "cell_type": "markdown",
   "id": "8e173c58-fb33-4db8-a1d7-458713b835e6",
   "metadata": {},
   "source": [
    "### c++ version"
   ]
  },
  {
   "cell_type": "code",
   "execution_count": 4,
   "id": "390e2afa-a1af-4c34-bcdf-fe99853c8851",
   "metadata": {},
   "outputs": [
    {
     "name": "stdout",
     "output_type": "stream",
     "text": [
      "[302.45 299.9417716272803 298.37541140256127 297.42974751043585 296.48028071780305 295.52674720971925 294.5688709547914 293.60636304202256 292.63892079984686 291.6662271742396 290.68794981270275 289.70373997440373 288.7132320582228 287.7160421694001 286.71176750780666 285.6999850914069 284.68025093365003 283.65209877149005 282.6150392605361 281.5685586575526 280.5121182294009 279.4451528510866 278.36707047483037 277.27725156967256 276.17504814321177 275.05978406030266 273.9307546459222 272.7872275005143 271.6284431703097 270.45361718797955 269.26194218485176 268.05259144321235 266.82472304995804 265.5774861392212 264.31002768438617 263.02150168895344 261.71108030793306 260.37796624883896 259.02140813593843 257.6407179617627 256.23528986081703 254.80462214213523 253.3483388722953 251.86621381411686 250.3581930250123 248.8244171214496 247.26523955079494 245.68124220117582 244.07324425721865 242.4423049514012 240.78971802456388 239.1169980145581 237.42585826506757 235.7181816705165 233.9959844465326 232.2613769466262 230.51652130644263 228.76359042889882 227.00472776751263 225.24201168393893 223.47742755931444 221.71284210924523 219.94998665068525 218.19044664793063 216.43565619933145 214.68689693472277 212.94530198367423 211.2118626270533 209.48743711516505 207.77275955871946 206.0684529531509 204.37503903490648 202.69294868138797 201.02253461481007 199.3640792977732 197.71780424280155 196.08387950418546 194.4624308755076 192.85354457928034 191.25727524292589] kelvin\n",
      "CPU times: user 9.31 s, sys: 13 ms, total: 9.32 s\n",
      "Wall time: 9.34 s\n"
     ]
    }
   ],
   "source": [
    "%%time\n",
    "for i in range(10000):\n",
    "    temp_profile = calc.parcel_profile_linfel(p, T, Td).to('K')\n",
    "\n",
    "print(temp_profile)"
   ]
  },
  {
   "cell_type": "code",
   "execution_count": 5,
   "id": "275307c1-d739-40b7-82bf-995a794107cf",
   "metadata": {},
   "outputs": [
    {
     "data": {
      "text/plain": [
       "(<Quantity(95995.77279057226, 'pascal')>,\n",
       " <Quantity(25.8073096, 'degree_Celsius')>)"
      ]
     },
     "execution_count": 5,
     "metadata": {},
     "output_type": "execute_result"
    }
   ],
   "source": [
    "calc.lcl_linfel(p[0],T,Td)"
   ]
  },
  {
   "cell_type": "code",
   "execution_count": null,
   "id": "2d84cc43-9a2c-4018-abe9-9289d9db3060",
   "metadata": {},
   "outputs": [],
   "source": []
  },
  {
   "cell_type": "markdown",
   "id": "e3f2e114-657a-4482-80a9-c45659bd91f9",
   "metadata": {},
   "source": [
    "# Pytest Debug"
   ]
  },
  {
   "cell_type": "code",
   "execution_count": 1,
   "id": "9af83bfc-7abb-40c4-aba7-1955002d847f",
   "metadata": {},
   "outputs": [],
   "source": [
    "import metpy.calc as calc\n",
    "import metpy._calc_mod as calc_mod\n",
    "from metpy.units import units\n",
    "import numpy as np"
   ]
  },
  {
   "cell_type": "code",
   "execution_count": 2,
   "id": "609f1f0d-6ef1-4d57-b8e7-20cd2786ee17",
   "metadata": {},
   "outputs": [
    {
     "name": "stdout",
     "output_type": "stream",
     "text": [
      "Runge-Kutta4 is using 150 steps.\n",
      "Runge-Kutta4 is using 150 steps.\n",
      "Runge-Kutta4 is using 150 steps.\n",
      "Runge-Kutta4 is using 150 steps.\n",
      "Runge-Kutta4 is using 150 steps.\n",
      "Runge-Kutta4 is using 150 steps.\n"
     ]
    }
   ],
   "source": [
    "levels = np.array([959., 779.2, 751.3, 724.3, 700., 269.]) * units.mbar\n",
    "temperatures = np.array([22.2, 14.6, np.nan, 9.4, 7., -38.]) * units.degC\n",
    "dewpoints = np.array([19., -11.2, -10.8, -10.4, np.nan, -53.2]) * units.degC\n",
    "parcel_temps = calc.parcel_profile(levels, temperatures[0], dewpoints[0]).to('degC')\n",
    "el_pressure, el_temperature = calc.el(levels, temperatures, dewpoints, parcel_temps)"
   ]
  },
  {
   "cell_type": "code",
   "execution_count": 3,
   "id": "c64deda1-260a-4878-bef8-b39a1e3573c1",
   "metadata": {},
   "outputs": [
    {
     "data": {
      "text/html": [
       "<table><tbody><tr><th>Magnitude</th><td style='text-align:left;'><pre>[22.19999999999999 12.318302901535901 10.93236914443088 9.523579249622173 8.19299815636191 -39.770310166140206]</pre></td></tr><tr><th>Units</th><td style='text-align:left;'>degree_Celsius</td></tr></tbody></table>"
      ],
      "text/latex": [
       "$\\begin{pmatrix} &  &  &  &  & \\end{pmatrix}\\ \\mathrm{degree\\_Celsius}$"
      ],
      "text/plain": [
       "<Quantity([ 22.2         12.3183029   10.93236914   9.52357925   8.19299816\n",
       " -39.77031017], 'degree_Celsius')>"
      ]
     },
     "execution_count": 3,
     "metadata": {},
     "output_type": "execute_result"
    }
   ],
   "source": [
    "parcel_temps"
   ]
  },
  {
   "cell_type": "code",
   "execution_count": 3,
   "id": "1790a018-159b-43d7-b38e-0b29239cddbf",
   "metadata": {},
   "outputs": [
    {
     "data": {
      "text/html": [
       "<table><tbody><tr><th>Magnitude</th><td style='text-align:left;'><pre>[22.19999999999999 12.318302901533173 10.932369144423035 9.523579249599493 8.192998156310352 -39.770311648545345]</pre></td></tr><tr><th>Units</th><td style='text-align:left;'>degree_Celsius</td></tr></tbody></table>"
      ],
      "text/latex": [
       "$\\begin{pmatrix} &  &  &  &  & \\end{pmatrix}\\ \\mathrm{degree\\_Celsius}$"
      ],
      "text/plain": [
       "<Quantity([ 22.2         12.3183029   10.93236914   9.52357925   8.19299816\n",
       " -39.77031165], 'degree_Celsius')>"
      ]
     },
     "execution_count": 3,
     "metadata": {},
     "output_type": "execute_result"
    }
   ],
   "source": [
    "parcel_temps"
   ]
  },
  {
   "cell_type": "code",
   "execution_count": 4,
   "id": "3bf2d949-0c97-449c-8751-94169173eef9",
   "metadata": {},
   "outputs": [
    {
     "data": {
      "text/html": [
       "6.307078207749498 degree_Celsius"
      ],
      "text/latex": [
       "$6.307078207749498\\ \\mathrm{degree\\_Celsius}$"
      ],
      "text/plain": [
       "<Quantity(6.30707821, 'degree_Celsius')>"
      ]
     },
     "execution_count": 4,
     "metadata": {},
     "output_type": "execute_result"
    }
   ],
   "source": [
    "el_temperature"
   ]
  },
  {
   "cell_type": "code",
   "execution_count": 5,
   "id": "09257546-dd7e-49f8-b83e-9a4d4f466b6a",
   "metadata": {},
   "outputs": [
    {
     "data": {
      "text/html": [
       "678.9682852676749 millibar"
      ],
      "text/latex": [
       "$678.9682852676749\\ \\mathrm{millibar}$"
      ],
      "text/plain": [
       "<Quantity(678.968285, 'millibar')>"
      ]
     },
     "execution_count": 5,
     "metadata": {},
     "output_type": "execute_result"
    }
   ],
   "source": [
    "el_pressure"
   ]
  },
  {
   "cell_type": "code",
   "execution_count": null,
   "id": "f8c866eb-5a24-4ccb-907b-0b4a5461ec70",
   "metadata": {},
   "outputs": [],
   "source": []
  },
  {
   "cell_type": "code",
   "execution_count": null,
   "id": "08e4d7c7-1c7f-4ed0-b2f9-246fa6a005a0",
   "metadata": {},
   "outputs": [],
   "source": []
  },
  {
   "cell_type": "markdown",
   "id": "101e0683-25f4-4861-aeee-cdb2f1f5c5f8",
   "metadata": {},
   "source": [
    "# Parcel Profile with LCL test"
   ]
  },
  {
   "cell_type": "code",
   "execution_count": 1,
   "id": "a0a512f4-5329-4873-84fa-ca0c7cb3e438",
   "metadata": {},
   "outputs": [],
   "source": [
    "import metpy.calc as calc\n",
    "import metpy._calc_mod as calc_mod\n",
    "from metpy.units import units\n",
    "import numpy as np"
   ]
  },
  {
   "cell_type": "code",
   "execution_count": 2,
   "id": "4fe27be9-e06d-4bc0-b544-52781c7a2699",
   "metadata": {},
   "outputs": [],
   "source": [
    "# pressure\n",
    "p = [1008., 1000., 950., 900., 850., 800., 750., 700., 650., 600.,\n",
    "     550., 500., 450., 400., 350., 300., 250., 200.,\n",
    "     175., 150., 125., 100., 80., 70., 60., 50.,\n",
    "     40., 30., 25., 20.] * units.hPa\n",
    "# temperature\n",
    "T = [29.3, 28.1, 23.5, 20.9, 18.4, 15.9, 13.1, 10.1, 6.7, 3.1,\n",
    "     -0.5, -4.5, -9.0, -14.8, -21.5, -29.7, -40.0, -52.4,\n",
    "     -59.2, -66.5, -74.1, -78.5, -76.0, -71.6, -66.7, -61.3,\n",
    "     -56.3, -51.7, -50.7, -47.5] * units.degC\n",
    "# relative humidity\n",
    "rh = [.85, .65, .36, .39, .82, .72, .75, .86, .65, .22, .52,\n",
    "      .66, .64, .20, .05, .75, .76, .45, .25, .48, .76, .88,\n",
    "      .56, .88, .39, .67, .15, .04, .94, .35] * units.dimensionless\n",
    "# calculate dewpoint\n",
    "Td = calc.dewpoint_from_relative_humidity(T, rh)"
   ]
  },
  {
   "cell_type": "code",
   "execution_count": 7,
   "id": "24640452-8846-4a8b-9559-6d8fcf37a0f4",
   "metadata": {},
   "outputs": [],
   "source": [
    "p_wLCL, T_wLCL, Td_wLCL, prof_wLCL = calc.parcel_profile_with_lcl(p, T, Td)"
   ]
  },
  {
   "cell_type": "code",
   "execution_count": 8,
   "id": "d046dd25-189a-4cc9-ad66-0292e60551f0",
   "metadata": {},
   "outputs": [
    {
     "data": {
      "text/html": [
       "<table><tbody><tr><th>Magnitude</th><td style='text-align:left;'><pre>[29.3 28.1 25.092519615777146 23.5 20.9 18.4 15.9 13.1 10.1 6.7 3.1 -0.5 -4.5 -9.0 -14.8 -21.5 -29.7 -40.0 -52.4 -59.2 -66.5 -74.1 -78.5 -76.0 -71.6 -66.7 -61.3 -56.3 -51.7 -50.7 -47.5]</pre></td></tr><tr><th>Units</th><td style='text-align:left;'>degree_Celsius</td></tr></tbody></table>"
      ],
      "text/latex": [
       "$\\begin{pmatrix} &  &  &  &  &  &  &  &  &  &  &  &  &  &  &  &  &  &  &  &  &  &  &  &  &  &  &  &  &  & \\end{pmatrix}\\ \\mathrm{degree\\_Celsius}$"
      ],
      "text/plain": [
       "<Quantity([ 29.3         28.1         25.09251962  23.5         20.9\n",
       "  18.4         15.9         13.1         10.1          6.7\n",
       "   3.1         -0.5         -4.5         -9.         -14.8\n",
       " -21.5        -29.7        -40.         -52.4        -59.2\n",
       " -66.5        -74.1        -78.5        -76.         -71.6\n",
       " -66.7        -61.3        -56.3        -51.7        -50.7\n",
       " -47.5       ], 'degree_Celsius')>"
      ]
     },
     "execution_count": 8,
     "metadata": {},
     "output_type": "execute_result"
    }
   ],
   "source": [
    "T_wLCL"
   ]
  },
  {
   "cell_type": "code",
   "execution_count": 9,
   "id": "026411ae-f146-465b-8bb3-228ce837e958",
   "metadata": {},
   "outputs": [],
   "source": [
    "p_wLCL, T_wLCL, Td_wLCL, prof_wLCL = calc.parcel_profile_with_lcl_linfel(p, T, Td)"
   ]
  },
  {
   "cell_type": "code",
   "execution_count": 10,
   "id": "be87ea3c-44ee-45ee-9ea9-d44f8d1afb97",
   "metadata": {},
   "outputs": [
    {
     "data": {
      "text/html": [
       "<table><tbody><tr><th>Magnitude</th><td style='text-align:left;'><pre>[29.30000000000001 28.100000000000023 25.092519615777178 23.5 20.899999999999977 18.399999999999977 15.899999999999977 13.100000000000023 10.100000000000023 6.699999999999989 3.1000000000000227 -0.5 -4.5 -9.0 -14.800000000000011 -21.5 -29.69999999999999 -40.0 -52.400000000000006 -59.19999999999999 -66.5 -74.1 -78.5 -76.0 -71.6 -66.69999999999999 -61.30000000000001 -56.30000000000001 -51.69999999999999 -50.69999999999999 -47.5]</pre></td></tr><tr><th>Units</th><td style='text-align:left;'>degree_Celsius</td></tr></tbody></table>"
      ],
      "text/latex": [
       "$\\begin{pmatrix} &  &  &  &  &  &  &  &  &  &  &  &  &  &  &  &  &  &  &  &  &  &  &  &  &  &  &  &  &  & \\end{pmatrix}\\ \\mathrm{degree\\_Celsius}$"
      ],
      "text/plain": [
       "<Quantity([ 29.3         28.1         25.09251962  23.5         20.9\n",
       "  18.4         15.9         13.1         10.1          6.7\n",
       "   3.1         -0.5         -4.5         -9.         -14.8\n",
       " -21.5        -29.7        -40.         -52.4        -59.2\n",
       " -66.5        -74.1        -78.5        -76.         -71.6\n",
       " -66.7        -61.3        -56.3        -51.7        -50.7\n",
       " -47.5       ], 'degree_Celsius')>"
      ]
     },
     "execution_count": 10,
     "metadata": {},
     "output_type": "execute_result"
    }
   ],
   "source": [
    "T_wLCL"
   ]
  },
  {
   "cell_type": "code",
   "execution_count": null,
   "id": "17a6b22e-d8a8-4d1b-b06f-b78a057e9171",
   "metadata": {},
   "outputs": [],
   "source": []
  }
 ],
 "metadata": {
  "kernelspec": {
   "display_name": "Python (metpy_dev)",
   "language": "python",
   "name": "metpy_dev"
  },
  "language_info": {
   "codemirror_mode": {
    "name": "ipython",
    "version": 3
   },
   "file_extension": ".py",
   "mimetype": "text/x-python",
   "name": "python",
   "nbconvert_exporter": "python",
   "pygments_lexer": "ipython3",
   "version": "3.13.3"
  }
 },
 "nbformat": 4,
 "nbformat_minor": 5
}
