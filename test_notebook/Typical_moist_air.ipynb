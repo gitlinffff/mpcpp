{
 "cells": [
  {
   "cell_type": "markdown",
   "id": "cb9238b6-0aca-495d-aef2-9ac10a57f6c6",
   "metadata": {},
   "source": [
    "# Demonstrate the influence of moist on Gas constant and Cp"
   ]
  },
  {
   "cell_type": "code",
   "execution_count": 2,
   "id": "d440a59f-e7ec-4318-b82e-df57d592e4a9",
   "metadata": {},
   "outputs": [],
   "source": [
    "import metpy.calc as calc\n",
    "from metpy.units import units\n",
    "import numpy as np"
   ]
  },
  {
   "cell_type": "markdown",
   "id": "0a2868db-9d6f-4525-b0bf-e4956c13f5ca",
   "metadata": {},
   "source": [
    "### Typical atmosphere "
   ]
  },
  {
   "cell_type": "code",
   "execution_count": 3,
   "id": "9ed0709a-25bb-4396-83f9-5737b2448c4c",
   "metadata": {},
   "outputs": [],
   "source": [
    "# pressure\n",
    "p = [1008., 1000., 950., 900., 850., 800., 750., 700., 650., 600.,\n",
    "     550., 500., 450., 400., 350., 300., 250., 200.,\n",
    "     175., 150., 125., 100., 80., 70., 60., 50.,\n",
    "     40., 30., 25., 20.] * units.hPa\n",
    "# temperature\n",
    "T = [29.3, 28.1, 23.5, 20.9, 18.4, 15.9, 13.1, 10.1, 6.7, 3.1,\n",
    "     -0.5, -4.5, -9.0, -14.8, -21.5, -29.7, -40.0, -52.4,\n",
    "     -59.2, -66.5, -74.1, -78.5, -76.0, -71.6, -66.7, -61.3,\n",
    "     -56.3, -51.7, -50.7, -47.5] * units.degC\n",
    "# relative humidity\n",
    "rh = [.85, .65, .36, .39, .82, .72, .75, .86, .65, .22, .52,\n",
    "      .66, .64, .20, .05, .75, .76, .45, .25, .48, .76, .88,\n",
    "      .56, .88, .39, .67, .15, .04, .94, .35] * units.dimensionless\n",
    "# calculate dewpoint\n",
    "Td = calc.dewpoint_from_relative_humidity(T, rh)\n",
    "\n",
    "specific_humidity = calc.specific_humidity_from_dewpoint(p, Td)\n",
    "Rm = calc.moist_air_gas_constant(specific_humidity)\n",
    "C_pm = calc.moist_air_specific_heat_pressure(specific_humidity)\n",
    "\n",
    "# cp / cv\n",
    "gamma_m = C_pm / (C_pm - Rm)\n",
    "# R / cp\n",
    "kappa_m = Rm / C_pm"
   ]
  },
  {
   "cell_type": "code",
   "execution_count": 10,
   "id": "cddd492a-c8b0-445f-85e5-fb03a2f37906",
   "metadata": {},
   "outputs": [
    {
     "name": "stdout",
     "output_type": "stream",
     "text": [
      "compare to cp/cv = 1.4 :\n",
      " [1.3971159303460146 1.397920103645992 1.3990730854983304 1.3990950539681202 1.398278523286111 1.398627513926584 1.3987270010669444 1.3987173935932682 1.399170283697743 1.3997632661653616 1.39952876488922 1.399510998811873 1.3996271698508875 1.3999175976235225 1.3999865164474463 1.3998889335327478 1.3999509019156442 1.3999905370351573 1.3999972945819823 1.3999976363999223 1.399998433622305 1.3999988115945314 1.399998616522738 1.3999954097299037 1.3999953020721831 1.39998079354071 1.3999898176292394 1.3999936390801833 1.3998095311314664 1.3998719107356017] dimensionless\n"
     ]
    }
   ],
   "source": [
    "print(\"compare to cp/cv = 1.4 :\\n\",gamma_m)"
   ]
  },
  {
   "cell_type": "code",
   "execution_count": 5,
   "id": "2336d653-88d7-4309-a509-22bd0a384836",
   "metadata": {},
   "outputs": [],
   "source": [
    "# consider the change of kappa due to moist\n",
    "T_m = T[0].to('K') * (p / p[0]) ** kappa_m"
   ]
  },
  {
   "cell_type": "code",
   "execution_count": 6,
   "id": "95b87e58-53d7-4ace-ba31-6922e6b193b7",
   "metadata": {},
   "outputs": [],
   "source": [
    "# treat kappa as unchanged even though moist\n",
    "kappa_d = calc.moist_air_gas_constant(0) / calc.moist_air_specific_heat_pressure(0)\n",
    "T_nochange = T[0].to('K') * (p / p[0]) ** kappa_d"
   ]
  },
  {
   "cell_type": "code",
   "execution_count": 7,
   "id": "98b407d6-92ee-48dc-9ab9-267b95e7cb22",
   "metadata": {},
   "outputs": [
    {
     "data": {
      "text/html": [
       "<table><tbody><tr><th>Magnitude</th><td style='text-align:left;'><pre>[0.0 -0.0008468140217186519 -0.0028043842916410655 -0.005235713867552618 -0.014991268950544928 -0.01619812099191378 -0.01921779472261568 -0.023880947172812295 -0.0185827020654251 -0.006266988068471349 -0.014568978896213036 -0.017496736116677188 -0.015343649860263011 -0.0038859251584949647 -0.0007276967598908418 -0.006867962209396812 -0.0034926951354527576 -0.0007808928869857589 -0.00024168475618648505 -0.00022973821120013968 -0.00016682004813058738 -0.00014009563979881928 -0.00017884246221928096 -0.0006246581520411078 -0.0006762568373492889 -0.002943387382578949 -0.0016763717095686884 -0.0011405914584617961 -0.035923657846440527 -0.025616857576174868]</pre></td></tr><tr><th>Units</th><td style='text-align:left;'>dimensionless</td></tr></tbody></table>"
      ],
      "text/latex": [
       "$\\begin{pmatrix} &  &  &  &  &  &  &  &  &  &  &  &  &  &  &  &  &  &  &  &  &  &  &  &  &  &  &  &  & \\end{pmatrix}\\ \\mathrm{dimensionless}$"
      ],
      "text/plain": [
       "<Quantity([ 0.         -0.00084681 -0.00280438 -0.00523571 -0.01499127 -0.01619812\n",
       " -0.01921779 -0.02388095 -0.0185827  -0.00626699 -0.01456898 -0.01749674\n",
       " -0.01534365 -0.00388593 -0.0007277  -0.00686796 -0.0034927  -0.00078089\n",
       " -0.00024168 -0.00022974 -0.00016682 -0.0001401  -0.00017884 -0.00062466\n",
       " -0.00067626 -0.00294339 -0.00167637 -0.00114059 -0.03592366 -0.02561686], 'dimensionless')>"
      ]
     },
     "execution_count": 7,
     "metadata": {},
     "output_type": "execute_result"
    }
   ],
   "source": [
    "# bias percentage\n",
    "(T_nochange - T_m) / T_m * 100"
   ]
  },
  {
   "cell_type": "code",
   "execution_count": 8,
   "id": "99f72479-38de-4c77-9717-28274de18be9",
   "metadata": {},
   "outputs": [
    {
     "data": {
      "text/html": [
       "<table><tbody><tr><th>Magnitude</th><td style='text-align:left;'><pre>[302.45 301.7647749021749 297.38041325510653 292.82896714176326 288.11373020333525 283.16961052909915 278.00432558436233 272.5906081492334 266.8653878132157 260.7994831539389 254.416956820026 247.5895378641991 240.24223981289788 232.2654416549796 223.5639388975493 213.94432269033268 203.07800758339863 190.5296375316763 183.39651207044167 175.49444160569595 166.5865289948643 156.29719647860034 146.6434877318238 141.15478006554252 135.0728799002749 128.21971069386643 120.29863922521578 110.80557353208837 105.21786417685 98.70885881260132]</pre></td></tr><tr><th>Units</th><td style='text-align:left;'>kelvin</td></tr></tbody></table>"
      ],
      "text/latex": [
       "$\\begin{pmatrix} &  &  &  &  &  &  &  &  &  &  &  &  &  &  &  &  &  &  &  &  &  &  &  &  &  &  &  &  & \\end{pmatrix}\\ \\mathrm{kelvin}$"
      ],
      "text/plain": [
       "<Quantity([302.45       301.7647749  297.38041326 292.82896714 288.1137302\n",
       " 283.16961053 278.00432558 272.59060815 266.86538781 260.79948315\n",
       " 254.41695682 247.58953786 240.24223981 232.26544165 223.5639389\n",
       " 213.94432269 203.07800758 190.52963753 183.39651207 175.49444161\n",
       " 166.58652899 156.29719648 146.64348773 141.15478007 135.0728799\n",
       " 128.21971069 120.29863923 110.80557353 105.21786418  98.70885881], 'kelvin')>"
      ]
     },
     "execution_count": 8,
     "metadata": {},
     "output_type": "execute_result"
    }
   ],
   "source": [
    "T_m"
   ]
  },
  {
   "cell_type": "code",
   "execution_count": 9,
   "id": "56772f8f-3c6b-480d-b1bd-e58063f0bb88",
   "metadata": {},
   "outputs": [
    {
     "data": {
      "text/html": [
       "<table><tbody><tr><th>Magnitude</th><td style='text-align:left;'><pre>[302.45 301.7622195157484 297.3720735655108 292.8136354549224 288.070538299157 283.1237423729733 277.95089928375154 272.5255109301032 266.81579701328263 260.78313888144703 254.3798908672785 247.5462177761065 240.20537788480453 232.25641599374785 223.56231203000965 213.92962907510116 203.0709146877066 190.5281496992892 183.39606882902862 175.49403842790505 166.58625109513645 156.29697751304295 146.64322547099965 141.15389833070185 135.07196646068917 128.2159366910799 120.29662257286081 110.80430969318117 105.18006607132978 98.68357270482423]</pre></td></tr><tr><th>Units</th><td style='text-align:left;'>kelvin</td></tr></tbody></table>"
      ],
      "text/latex": [
       "$\\begin{pmatrix} &  &  &  &  &  &  &  &  &  &  &  &  &  &  &  &  &  &  &  &  &  &  &  &  &  &  &  &  & \\end{pmatrix}\\ \\mathrm{kelvin}$"
      ],
      "text/plain": [
       "<Quantity([302.45       301.76221952 297.37207357 292.81363545 288.0705383\n",
       " 283.12374237 277.95089928 272.52551093 266.81579701 260.78313888\n",
       " 254.37989087 247.54621778 240.20537788 232.25641599 223.56231203\n",
       " 213.92962908 203.07091469 190.5281497  183.39606883 175.49403843\n",
       " 166.5862511  156.29697751 146.64322547 141.15389833 135.07196646\n",
       " 128.21593669 120.29662257 110.80430969 105.18006607  98.6835727 ], 'kelvin')>"
      ]
     },
     "execution_count": 9,
     "metadata": {},
     "output_type": "execute_result"
    }
   ],
   "source": [
    "T_nochange"
   ]
  }
 ],
 "metadata": {
  "kernelspec": {
   "display_name": "Python (metpy_dev)",
   "language": "python",
   "name": "metpy_dev"
  },
  "language_info": {
   "codemirror_mode": {
    "name": "ipython",
    "version": 3
   },
   "file_extension": ".py",
   "mimetype": "text/x-python",
   "name": "python",
   "nbconvert_exporter": "python",
   "pygments_lexer": "ipython3",
   "version": "3.13.3"
  }
 },
 "nbformat": 4,
 "nbformat_minor": 5
}
