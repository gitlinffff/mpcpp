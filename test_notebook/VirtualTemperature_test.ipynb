{
 "cells": [
  {
   "cell_type": "code",
   "execution_count": 1,
   "id": "df456216-4e87-4d97-8839-d01820446d60",
   "metadata": {},
   "outputs": [],
   "source": [
    "import metpy.calc as calc\n",
    "import metpy._calc_mod as calc_mod\n",
    "from metpy.units import units\n",
    "import numpy as np"
   ]
  },
  {
   "cell_type": "markdown",
   "id": "cf7791ed-a51f-411b-86a9-9f2d9922b9bf",
   "metadata": {},
   "source": [
    "## Virtual Temperature"
   ]
  },
  {
   "cell_type": "code",
   "execution_count": 2,
   "id": "670abb85-5af8-4440-a660-3479c7bbda41",
   "metadata": {},
   "outputs": [
    {
     "data": {
      "text/html": [
       "<table><tbody><tr><th>Magnitude</th><td style='text-align:left;'><pre>[285.0397088301652 295.63192702869173 306.61121594520955]</pre></td></tr><tr><th>Units</th><td style='text-align:left;'>kelvin</td></tr></tbody></table>"
      ],
      "text/latex": [
       "$\\begin{pmatrix} &  & \\end{pmatrix}\\ \\mathrm{kelvin}$"
      ],
      "text/plain": [
       "<Quantity([285.03970883 295.63192703 306.61121595], 'kelvin')>"
      ]
     },
     "execution_count": 2,
     "metadata": {},
     "output_type": "execute_result"
    }
   ],
   "source": [
    "T = np.array([283, 293, 303])\n",
    "mixing_ratio = np.array([12, 15, 20])\n",
    "\n",
    "calc.virtual_temperature(T * units.K, mixing_ratio * units('g/kg'))"
   ]
  },
  {
   "cell_type": "code",
   "execution_count": 3,
   "id": "c476d493-4f87-46d8-be3a-fb05ae6ade16",
   "metadata": {},
   "outputs": [
    {
     "data": {
      "text/html": [
       "<table><tbody><tr><th>Magnitude</th><td style='text-align:left;'><pre>[285.0397088301651 295.63192702869173 306.61121594520955]</pre></td></tr><tr><th>Units</th><td style='text-align:left;'>kelvin</td></tr></tbody></table>"
      ],
      "text/latex": [
       "$\\begin{pmatrix} &  & \\end{pmatrix}\\ \\mathrm{kelvin}$"
      ],
      "text/plain": [
       "<Quantity([285.03970883 295.63192703 306.61121595], 'kelvin')>"
      ]
     },
     "execution_count": 3,
     "metadata": {},
     "output_type": "execute_result"
    }
   ],
   "source": [
    "calc.virtual_temperature_linfel(T * units.K, mixing_ratio * units('g/kg'))"
   ]
  },
  {
   "cell_type": "markdown",
   "id": "e6ce05b6-fc0f-4a59-8a36-61291431b6a6",
   "metadata": {},
   "source": [
    "## Virtual Temperature from Dewpoint"
   ]
  },
  {
   "cell_type": "code",
   "execution_count": 4,
   "id": "87d24241-f2ae-4cda-bee0-e0e5e7aacd26",
   "metadata": {},
   "outputs": [
    {
     "data": {
      "text/html": [
       "<table><tbody><tr><th>Magnitude</th><td style='text-align:left;'><pre>[33.668018312021445 31.0981542996916 40.59763844748585]</pre></td></tr><tr><th>Units</th><td style='text-align:left;'>degree_Celsius</td></tr></tbody></table>"
      ],
      "text/latex": [
       "$\\begin{pmatrix} &  & \\end{pmatrix}\\ \\mathrm{degree\\_Celsius}$"
      ],
      "text/plain": [
       "<Quantity([33.66801831 31.0981543  40.59763845], 'degree_Celsius')>"
      ]
     },
     "execution_count": 4,
     "metadata": {},
     "output_type": "execute_result"
    }
   ],
   "source": [
    "p = np.array([1000, 980, 950])\n",
    "T = np.array([30, 28, 35])\n",
    "dewT = np.array([25, 22, 31])\n",
    "\n",
    "calc.virtual_temperature_from_dewpoint(p * units.hPa, T * units.degC, dewT * units.degC)"
   ]
  },
  {
   "cell_type": "code",
   "execution_count": 5,
   "id": "93bf70b4-07d7-4101-9579-cb90c61860aa",
   "metadata": {},
   "outputs": [
    {
     "data": {
      "text/html": [
       "<table><tbody><tr><th>Magnitude</th><td style='text-align:left;'><pre>[33.668018312021445 31.0981542996916 40.59763844748585]</pre></td></tr><tr><th>Units</th><td style='text-align:left;'>degree_Celsius</td></tr></tbody></table>"
      ],
      "text/latex": [
       "$\\begin{pmatrix} &  & \\end{pmatrix}\\ \\mathrm{degree\\_Celsius}$"
      ],
      "text/plain": [
       "<Quantity([33.66801831 31.0981543  40.59763845], 'degree_Celsius')>"
      ]
     },
     "execution_count": 5,
     "metadata": {},
     "output_type": "execute_result"
    }
   ],
   "source": [
    "calc.virtual_temperature_from_dewpoint_linfel(p * units.hPa, T * units.degC, dewT * units.degC)"
   ]
  },
  {
   "cell_type": "code",
   "execution_count": null,
   "id": "2e43ace1-6770-4dc5-97dc-86c2cdf13689",
   "metadata": {},
   "outputs": [],
   "source": []
  }
 ],
 "metadata": {
  "kernelspec": {
   "display_name": "Python (metpy_dev)",
   "language": "python",
   "name": "metpy_dev"
  },
  "language_info": {
   "codemirror_mode": {
    "name": "ipython",
    "version": 3
   },
   "file_extension": ".py",
   "mimetype": "text/x-python",
   "name": "python",
   "nbconvert_exporter": "python",
   "pygments_lexer": "ipython3",
   "version": "3.13.3"
  }
 },
 "nbformat": 4,
 "nbformat_minor": 5
}
